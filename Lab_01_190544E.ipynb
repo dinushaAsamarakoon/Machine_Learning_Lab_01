{
  "nbformat": 4,
  "nbformat_minor": 0,
  "metadata": {
    "colab": {
      "provenance": []
    },
    "kernelspec": {
      "name": "python3",
      "display_name": "Python 3"
    },
    "language_info": {
      "name": "python"
    }
  },
  "cells": [
    {
      "cell_type": "code",
      "source": [
        "import pandas as pd\n",
        "import numpy as np\n",
        "import matplotlib.pyplot as plt\n",
        "from sklearn.preprocessing import StandardScaler\n",
        "from sklearn.neighbors import KNeighborsClassifier\n",
        "from sklearn.metrics import accuracy_score\n",
        "from sklearn.decomposition import PCA\n",
        "import seaborn as sn\n",
        "from imblearn.over_sampling import RandomOverSampler\n",
        "from sklearn.svm import SVC\n",
        "from sklearn.linear_model import LogisticRegression\n",
        "import time\n",
        "import os"
      ],
      "metadata": {
        "id": "zMToJ4ehZdB5"
      },
      "execution_count": 78,
      "outputs": []
    },
    {
      "cell_type": "code",
      "source": [
        "from google.colab import drive\n",
        "drive.mount('/content/drive')"
      ],
      "metadata": {
        "colab": {
          "base_uri": "https://localhost:8080/"
        },
        "id": "ZY0ZY78REJgx",
        "outputId": "0cf6b355-51e3-49bd-f0ff-a1dfcc16a74f"
      },
      "execution_count": 2,
      "outputs": [
        {
          "output_type": "stream",
          "name": "stdout",
          "text": [
            "Mounted at /content/drive\n"
          ]
        }
      ]
    },
    {
      "cell_type": "code",
      "source": [
        "import warnings\n",
        "warnings.filterwarnings('ignore')"
      ],
      "metadata": {
        "id": "yLM0TKNVZgDY"
      },
      "execution_count": 3,
      "outputs": []
    },
    {
      "cell_type": "code",
      "source": [
        "train = pd.read_csv('/content/drive/MyDrive/Colab Notebooks/ML lab 01/train.csv')\n",
        "valid = pd.read_csv('/content/drive/MyDrive/Colab Notebooks/ML lab 01/valid.csv')\n",
        "test = pd.read_csv('/content/drive/MyDrive/Colab Notebooks/ML lab 01/test.csv')"
      ],
      "metadata": {
        "id": "BZ6lcmNJZh9w"
      },
      "execution_count": 4,
      "outputs": []
    },
    {
      "cell_type": "code",
      "source": [
        "X_train = train.iloc[:, :-4]\n",
        "y_train = train.iloc[:, -4:]\n",
        "X_val = valid.iloc[:, :-4]\n",
        "y_val = valid.iloc[:, -4:]\n",
        "X_test = test.iloc[:, :-4]\n",
        "y_test = test.iloc[:, -4:]"
      ],
      "metadata": {
        "id": "VJqOg3w1Zmki"
      },
      "execution_count": 5,
      "outputs": []
    },
    {
      "cell_type": "code",
      "source": [
        "X_train.head()\n",
        "y_test.head()\n",
        "X_test.head()"
      ],
      "metadata": {
        "id": "XK5VKjkyZqrR",
        "colab": {
          "base_uri": "https://localhost:8080/",
          "height": 255
        },
        "outputId": "a05a6179-1f80-46b0-fcd7-1418a662bb86"
      },
      "execution_count": 6,
      "outputs": [
        {
          "output_type": "execute_result",
          "data": {
            "text/plain": [
              "   feature_1  feature_2  feature_3  feature_4  feature_5  feature_6  \\\n",
              "0  -1.141206  -0.279703   1.019681   2.605902   0.460391  -1.167380   \n",
              "1  -1.796767  -0.056758   0.771219   4.414086  -1.229059   1.732098   \n",
              "2  -1.388968  -0.418296   0.186543   2.803852  -1.499095   1.395180   \n",
              "3   1.276844  -0.112323  -0.310796   2.251175   0.283670  -0.581020   \n",
              "4  -1.560815  -0.168494   1.249770   1.869219  -1.646049   0.132156   \n",
              "\n",
              "   feature_7  feature_8  feature_9  feature_10  ...  feature_247  feature_248  \\\n",
              "0  -1.149165  -1.205164   2.468966   -2.729526  ...     1.670388    -0.355608   \n",
              "1   0.063241  -0.126311   1.322355   -3.461282  ...     1.136570     0.826741   \n",
              "2   0.739648   0.274060   1.228789   -3.081147  ...     0.343188    -0.243809   \n",
              "3  -0.024439  -0.306097   2.424685   -1.714863  ...     3.057573    -0.632902   \n",
              "4  -0.664602   0.483327   1.728020   -2.258071  ...     1.217447    -0.374313   \n",
              "\n",
              "   feature_249  feature_250  feature_251  feature_252  feature_253  \\\n",
              "0    -0.342747    -0.102831    -0.868282    -0.429783     0.438561   \n",
              "1    -0.371280    -1.492272     0.227806     0.209200     2.200402   \n",
              "2     0.462302    -1.511495    -0.692679     0.449235     1.377531   \n",
              "3     1.511204    -0.658826    -0.690499    -1.077949     0.930102   \n",
              "4     1.280207    -1.546299    -0.510597     1.213396     2.497490   \n",
              "\n",
              "   feature_254  feature_255  feature_256  \n",
              "0    -1.625122     0.599944    -0.615575  \n",
              "1    -1.701029     1.163999    -1.570136  \n",
              "2    -1.854203    -0.040538    -2.164104  \n",
              "3    -2.758352    -0.246738    -1.389013  \n",
              "4    -1.597984    -0.163483    -1.735939  \n",
              "\n",
              "[5 rows x 256 columns]"
            ],
            "text/html": [
              "\n",
              "  <div id=\"df-bc86643d-b7d9-4a00-9079-b2a4d44e288c\" class=\"colab-df-container\">\n",
              "    <div>\n",
              "<style scoped>\n",
              "    .dataframe tbody tr th:only-of-type {\n",
              "        vertical-align: middle;\n",
              "    }\n",
              "\n",
              "    .dataframe tbody tr th {\n",
              "        vertical-align: top;\n",
              "    }\n",
              "\n",
              "    .dataframe thead th {\n",
              "        text-align: right;\n",
              "    }\n",
              "</style>\n",
              "<table border=\"1\" class=\"dataframe\">\n",
              "  <thead>\n",
              "    <tr style=\"text-align: right;\">\n",
              "      <th></th>\n",
              "      <th>feature_1</th>\n",
              "      <th>feature_2</th>\n",
              "      <th>feature_3</th>\n",
              "      <th>feature_4</th>\n",
              "      <th>feature_5</th>\n",
              "      <th>feature_6</th>\n",
              "      <th>feature_7</th>\n",
              "      <th>feature_8</th>\n",
              "      <th>feature_9</th>\n",
              "      <th>feature_10</th>\n",
              "      <th>...</th>\n",
              "      <th>feature_247</th>\n",
              "      <th>feature_248</th>\n",
              "      <th>feature_249</th>\n",
              "      <th>feature_250</th>\n",
              "      <th>feature_251</th>\n",
              "      <th>feature_252</th>\n",
              "      <th>feature_253</th>\n",
              "      <th>feature_254</th>\n",
              "      <th>feature_255</th>\n",
              "      <th>feature_256</th>\n",
              "    </tr>\n",
              "  </thead>\n",
              "  <tbody>\n",
              "    <tr>\n",
              "      <th>0</th>\n",
              "      <td>-1.141206</td>\n",
              "      <td>-0.279703</td>\n",
              "      <td>1.019681</td>\n",
              "      <td>2.605902</td>\n",
              "      <td>0.460391</td>\n",
              "      <td>-1.167380</td>\n",
              "      <td>-1.149165</td>\n",
              "      <td>-1.205164</td>\n",
              "      <td>2.468966</td>\n",
              "      <td>-2.729526</td>\n",
              "      <td>...</td>\n",
              "      <td>1.670388</td>\n",
              "      <td>-0.355608</td>\n",
              "      <td>-0.342747</td>\n",
              "      <td>-0.102831</td>\n",
              "      <td>-0.868282</td>\n",
              "      <td>-0.429783</td>\n",
              "      <td>0.438561</td>\n",
              "      <td>-1.625122</td>\n",
              "      <td>0.599944</td>\n",
              "      <td>-0.615575</td>\n",
              "    </tr>\n",
              "    <tr>\n",
              "      <th>1</th>\n",
              "      <td>-1.796767</td>\n",
              "      <td>-0.056758</td>\n",
              "      <td>0.771219</td>\n",
              "      <td>4.414086</td>\n",
              "      <td>-1.229059</td>\n",
              "      <td>1.732098</td>\n",
              "      <td>0.063241</td>\n",
              "      <td>-0.126311</td>\n",
              "      <td>1.322355</td>\n",
              "      <td>-3.461282</td>\n",
              "      <td>...</td>\n",
              "      <td>1.136570</td>\n",
              "      <td>0.826741</td>\n",
              "      <td>-0.371280</td>\n",
              "      <td>-1.492272</td>\n",
              "      <td>0.227806</td>\n",
              "      <td>0.209200</td>\n",
              "      <td>2.200402</td>\n",
              "      <td>-1.701029</td>\n",
              "      <td>1.163999</td>\n",
              "      <td>-1.570136</td>\n",
              "    </tr>\n",
              "    <tr>\n",
              "      <th>2</th>\n",
              "      <td>-1.388968</td>\n",
              "      <td>-0.418296</td>\n",
              "      <td>0.186543</td>\n",
              "      <td>2.803852</td>\n",
              "      <td>-1.499095</td>\n",
              "      <td>1.395180</td>\n",
              "      <td>0.739648</td>\n",
              "      <td>0.274060</td>\n",
              "      <td>1.228789</td>\n",
              "      <td>-3.081147</td>\n",
              "      <td>...</td>\n",
              "      <td>0.343188</td>\n",
              "      <td>-0.243809</td>\n",
              "      <td>0.462302</td>\n",
              "      <td>-1.511495</td>\n",
              "      <td>-0.692679</td>\n",
              "      <td>0.449235</td>\n",
              "      <td>1.377531</td>\n",
              "      <td>-1.854203</td>\n",
              "      <td>-0.040538</td>\n",
              "      <td>-2.164104</td>\n",
              "    </tr>\n",
              "    <tr>\n",
              "      <th>3</th>\n",
              "      <td>1.276844</td>\n",
              "      <td>-0.112323</td>\n",
              "      <td>-0.310796</td>\n",
              "      <td>2.251175</td>\n",
              "      <td>0.283670</td>\n",
              "      <td>-0.581020</td>\n",
              "      <td>-0.024439</td>\n",
              "      <td>-0.306097</td>\n",
              "      <td>2.424685</td>\n",
              "      <td>-1.714863</td>\n",
              "      <td>...</td>\n",
              "      <td>3.057573</td>\n",
              "      <td>-0.632902</td>\n",
              "      <td>1.511204</td>\n",
              "      <td>-0.658826</td>\n",
              "      <td>-0.690499</td>\n",
              "      <td>-1.077949</td>\n",
              "      <td>0.930102</td>\n",
              "      <td>-2.758352</td>\n",
              "      <td>-0.246738</td>\n",
              "      <td>-1.389013</td>\n",
              "    </tr>\n",
              "    <tr>\n",
              "      <th>4</th>\n",
              "      <td>-1.560815</td>\n",
              "      <td>-0.168494</td>\n",
              "      <td>1.249770</td>\n",
              "      <td>1.869219</td>\n",
              "      <td>-1.646049</td>\n",
              "      <td>0.132156</td>\n",
              "      <td>-0.664602</td>\n",
              "      <td>0.483327</td>\n",
              "      <td>1.728020</td>\n",
              "      <td>-2.258071</td>\n",
              "      <td>...</td>\n",
              "      <td>1.217447</td>\n",
              "      <td>-0.374313</td>\n",
              "      <td>1.280207</td>\n",
              "      <td>-1.546299</td>\n",
              "      <td>-0.510597</td>\n",
              "      <td>1.213396</td>\n",
              "      <td>2.497490</td>\n",
              "      <td>-1.597984</td>\n",
              "      <td>-0.163483</td>\n",
              "      <td>-1.735939</td>\n",
              "    </tr>\n",
              "  </tbody>\n",
              "</table>\n",
              "<p>5 rows × 256 columns</p>\n",
              "</div>\n",
              "    <div class=\"colab-df-buttons\">\n",
              "\n",
              "  <div class=\"colab-df-container\">\n",
              "    <button class=\"colab-df-convert\" onclick=\"convertToInteractive('df-bc86643d-b7d9-4a00-9079-b2a4d44e288c')\"\n",
              "            title=\"Convert this dataframe to an interactive table.\"\n",
              "            style=\"display:none;\">\n",
              "\n",
              "  <svg xmlns=\"http://www.w3.org/2000/svg\" height=\"24px\" viewBox=\"0 -960 960 960\">\n",
              "    <path d=\"M120-120v-720h720v720H120Zm60-500h600v-160H180v160Zm220 220h160v-160H400v160Zm0 220h160v-160H400v160ZM180-400h160v-160H180v160Zm440 0h160v-160H620v160ZM180-180h160v-160H180v160Zm440 0h160v-160H620v160Z\"/>\n",
              "  </svg>\n",
              "    </button>\n",
              "\n",
              "  <style>\n",
              "    .colab-df-container {\n",
              "      display:flex;\n",
              "      gap: 12px;\n",
              "    }\n",
              "\n",
              "    .colab-df-convert {\n",
              "      background-color: #E8F0FE;\n",
              "      border: none;\n",
              "      border-radius: 50%;\n",
              "      cursor: pointer;\n",
              "      display: none;\n",
              "      fill: #1967D2;\n",
              "      height: 32px;\n",
              "      padding: 0 0 0 0;\n",
              "      width: 32px;\n",
              "    }\n",
              "\n",
              "    .colab-df-convert:hover {\n",
              "      background-color: #E2EBFA;\n",
              "      box-shadow: 0px 1px 2px rgba(60, 64, 67, 0.3), 0px 1px 3px 1px rgba(60, 64, 67, 0.15);\n",
              "      fill: #174EA6;\n",
              "    }\n",
              "\n",
              "    .colab-df-buttons div {\n",
              "      margin-bottom: 4px;\n",
              "    }\n",
              "\n",
              "    [theme=dark] .colab-df-convert {\n",
              "      background-color: #3B4455;\n",
              "      fill: #D2E3FC;\n",
              "    }\n",
              "\n",
              "    [theme=dark] .colab-df-convert:hover {\n",
              "      background-color: #434B5C;\n",
              "      box-shadow: 0px 1px 3px 1px rgba(0, 0, 0, 0.15);\n",
              "      filter: drop-shadow(0px 1px 2px rgba(0, 0, 0, 0.3));\n",
              "      fill: #FFFFFF;\n",
              "    }\n",
              "  </style>\n",
              "\n",
              "    <script>\n",
              "      const buttonEl =\n",
              "        document.querySelector('#df-bc86643d-b7d9-4a00-9079-b2a4d44e288c button.colab-df-convert');\n",
              "      buttonEl.style.display =\n",
              "        google.colab.kernel.accessAllowed ? 'block' : 'none';\n",
              "\n",
              "      async function convertToInteractive(key) {\n",
              "        const element = document.querySelector('#df-bc86643d-b7d9-4a00-9079-b2a4d44e288c');\n",
              "        const dataTable =\n",
              "          await google.colab.kernel.invokeFunction('convertToInteractive',\n",
              "                                                    [key], {});\n",
              "        if (!dataTable) return;\n",
              "\n",
              "        const docLinkHtml = 'Like what you see? Visit the ' +\n",
              "          '<a target=\"_blank\" href=https://colab.research.google.com/notebooks/data_table.ipynb>data table notebook</a>'\n",
              "          + ' to learn more about interactive tables.';\n",
              "        element.innerHTML = '';\n",
              "        dataTable['output_type'] = 'display_data';\n",
              "        await google.colab.output.renderOutput(dataTable, element);\n",
              "        const docLink = document.createElement('div');\n",
              "        docLink.innerHTML = docLinkHtml;\n",
              "        element.appendChild(docLink);\n",
              "      }\n",
              "    </script>\n",
              "  </div>\n",
              "\n",
              "\n",
              "<div id=\"df-36d064f0-934e-465e-84d8-d758becba273\">\n",
              "  <button class=\"colab-df-quickchart\" onclick=\"quickchart('df-36d064f0-934e-465e-84d8-d758becba273')\"\n",
              "            title=\"Suggest charts.\"\n",
              "            style=\"display:none;\">\n",
              "\n",
              "<svg xmlns=\"http://www.w3.org/2000/svg\" height=\"24px\"viewBox=\"0 0 24 24\"\n",
              "     width=\"24px\">\n",
              "    <g>\n",
              "        <path d=\"M19 3H5c-1.1 0-2 .9-2 2v14c0 1.1.9 2 2 2h14c1.1 0 2-.9 2-2V5c0-1.1-.9-2-2-2zM9 17H7v-7h2v7zm4 0h-2V7h2v10zm4 0h-2v-4h2v4z\"/>\n",
              "    </g>\n",
              "</svg>\n",
              "  </button>\n",
              "\n",
              "<style>\n",
              "  .colab-df-quickchart {\n",
              "      --bg-color: #E8F0FE;\n",
              "      --fill-color: #1967D2;\n",
              "      --hover-bg-color: #E2EBFA;\n",
              "      --hover-fill-color: #174EA6;\n",
              "      --disabled-fill-color: #AAA;\n",
              "      --disabled-bg-color: #DDD;\n",
              "  }\n",
              "\n",
              "  [theme=dark] .colab-df-quickchart {\n",
              "      --bg-color: #3B4455;\n",
              "      --fill-color: #D2E3FC;\n",
              "      --hover-bg-color: #434B5C;\n",
              "      --hover-fill-color: #FFFFFF;\n",
              "      --disabled-bg-color: #3B4455;\n",
              "      --disabled-fill-color: #666;\n",
              "  }\n",
              "\n",
              "  .colab-df-quickchart {\n",
              "    background-color: var(--bg-color);\n",
              "    border: none;\n",
              "    border-radius: 50%;\n",
              "    cursor: pointer;\n",
              "    display: none;\n",
              "    fill: var(--fill-color);\n",
              "    height: 32px;\n",
              "    padding: 0;\n",
              "    width: 32px;\n",
              "  }\n",
              "\n",
              "  .colab-df-quickchart:hover {\n",
              "    background-color: var(--hover-bg-color);\n",
              "    box-shadow: 0 1px 2px rgba(60, 64, 67, 0.3), 0 1px 3px 1px rgba(60, 64, 67, 0.15);\n",
              "    fill: var(--button-hover-fill-color);\n",
              "  }\n",
              "\n",
              "  .colab-df-quickchart-complete:disabled,\n",
              "  .colab-df-quickchart-complete:disabled:hover {\n",
              "    background-color: var(--disabled-bg-color);\n",
              "    fill: var(--disabled-fill-color);\n",
              "    box-shadow: none;\n",
              "  }\n",
              "\n",
              "  .colab-df-spinner {\n",
              "    border: 2px solid var(--fill-color);\n",
              "    border-color: transparent;\n",
              "    border-bottom-color: var(--fill-color);\n",
              "    animation:\n",
              "      spin 1s steps(1) infinite;\n",
              "  }\n",
              "\n",
              "  @keyframes spin {\n",
              "    0% {\n",
              "      border-color: transparent;\n",
              "      border-bottom-color: var(--fill-color);\n",
              "      border-left-color: var(--fill-color);\n",
              "    }\n",
              "    20% {\n",
              "      border-color: transparent;\n",
              "      border-left-color: var(--fill-color);\n",
              "      border-top-color: var(--fill-color);\n",
              "    }\n",
              "    30% {\n",
              "      border-color: transparent;\n",
              "      border-left-color: var(--fill-color);\n",
              "      border-top-color: var(--fill-color);\n",
              "      border-right-color: var(--fill-color);\n",
              "    }\n",
              "    40% {\n",
              "      border-color: transparent;\n",
              "      border-right-color: var(--fill-color);\n",
              "      border-top-color: var(--fill-color);\n",
              "    }\n",
              "    60% {\n",
              "      border-color: transparent;\n",
              "      border-right-color: var(--fill-color);\n",
              "    }\n",
              "    80% {\n",
              "      border-color: transparent;\n",
              "      border-right-color: var(--fill-color);\n",
              "      border-bottom-color: var(--fill-color);\n",
              "    }\n",
              "    90% {\n",
              "      border-color: transparent;\n",
              "      border-bottom-color: var(--fill-color);\n",
              "    }\n",
              "  }\n",
              "</style>\n",
              "\n",
              "  <script>\n",
              "    async function quickchart(key) {\n",
              "      const quickchartButtonEl =\n",
              "        document.querySelector('#' + key + ' button');\n",
              "      quickchartButtonEl.disabled = true;  // To prevent multiple clicks.\n",
              "      quickchartButtonEl.classList.add('colab-df-spinner');\n",
              "      try {\n",
              "        const charts = await google.colab.kernel.invokeFunction(\n",
              "            'suggestCharts', [key], {});\n",
              "      } catch (error) {\n",
              "        console.error('Error during call to suggestCharts:', error);\n",
              "      }\n",
              "      quickchartButtonEl.classList.remove('colab-df-spinner');\n",
              "      quickchartButtonEl.classList.add('colab-df-quickchart-complete');\n",
              "    }\n",
              "    (() => {\n",
              "      let quickchartButtonEl =\n",
              "        document.querySelector('#df-36d064f0-934e-465e-84d8-d758becba273 button');\n",
              "      quickchartButtonEl.style.display =\n",
              "        google.colab.kernel.accessAllowed ? 'block' : 'none';\n",
              "    })();\n",
              "  </script>\n",
              "</div>\n",
              "    </div>\n",
              "  </div>\n"
            ]
          },
          "metadata": {},
          "execution_count": 6
        }
      ]
    },
    {
      "cell_type": "code",
      "source": [
        "svm = SVC(kernel='linear')\n",
        "def svm_classifier(X_train, Y_train, X_val, Y_val):\n",
        "    svm.fit(X_train, Y_train)\n",
        "\n",
        "    y_pred = svm.predict(X_val)\n",
        "\n",
        "    accuracy = accuracy_score(Y_val, y_pred)\n",
        "    return accuracy"
      ],
      "metadata": {
        "id": "XsT635ZGaZPY"
      },
      "execution_count": 7,
      "outputs": []
    },
    {
      "cell_type": "code",
      "source": [
        "knn = KNeighborsClassifier(n_neighbors=1)\n",
        "def knn_classifier(X_train, Y_train, X_val, Y_val):\n",
        "\n",
        "    knn.fit(np.array(X_train), Y_train)\n",
        "\n",
        "    y_pred = knn.predict(np.array(X_val))\n",
        "\n",
        "    accuracy = accuracy_score(Y_val, y_pred)\n",
        "    return accuracy"
      ],
      "metadata": {
        "id": "DhEqpWj_bHAh"
      },
      "execution_count": 8,
      "outputs": []
    },
    {
      "cell_type": "code",
      "source": [
        "logreg = LogisticRegression()\n",
        "def logistic_regression_classifier(X_train, Y_train, X_val, Y_val):\n",
        "\n",
        "    logreg.fit(X_train, Y_train)\n",
        "\n",
        "    y_pred = logreg.predict(X_val)\n",
        "\n",
        "    accuracy = accuracy_score(Y_val, y_pred)\n",
        "    return accuracy"
      ],
      "metadata": {
        "id": "frqdix6CbMwv"
      },
      "execution_count": 9,
      "outputs": []
    },
    {
      "cell_type": "markdown",
      "source": [
        "Label 1"
      ],
      "metadata": {
        "id": "rvNmEQGLboCX"
      }
    },
    {
      "cell_type": "code",
      "source": [
        "plt.figure(figsize=(18, 6))\n",
        "sn.countplot(data=y_train, x='label_1', palette='Set2')\n",
        "plt.title('Distribution of label_1 Classes')\n",
        "plt.xlabel('label_1')\n",
        "plt.ylabel('Count')\n",
        "plt.xticks(rotation=45)\n",
        "plt.show()"
      ],
      "metadata": {
        "id": "UnHE--lCbmH9",
        "colab": {
          "base_uri": "https://localhost:8080/",
          "height": 496
        },
        "outputId": "9fa7b1c4-4da3-4d11-f103-ac7128c29fdd"
      },
      "execution_count": 10,
      "outputs": [
        {
          "output_type": "display_data",
          "data": {
            "text/plain": [
              "<Figure size 1800x600 with 1 Axes>"
            ],
            "image/png": "[encoded data removed]"
          },
          "metadata": {}
        }
      ]
    },
    {
      "cell_type": "code",
      "source": [
        "# accuracy with all the features\n",
        "#svm\n",
        "start_time = time.time()\n",
        "accuracy = svm_classifier(X_train, y_train['label_1'], X_val, y_val['label_1'] )\n",
        "elapsed_time = time.time() - start_time\n",
        "print(f\"Accuracy: {accuracy * 100:.2f}% in {elapsed_time} secs\")"
      ],
      "metadata": {
        "id": "uw63e_qSctT4",
        "colab": {
          "base_uri": "https://localhost:8080/"
        },
        "outputId": "a6b53af1-257d-4c40-ad7f-5247b230c273"
      },
      "execution_count": 11,
      "outputs": [
        {
          "output_type": "stream",
          "name": "stdout",
          "text": [
            "Accuracy: 99.20% in 16.67271637916565 secs\n"
          ]
        }
      ]
    },
    {
      "cell_type": "code",
      "source": [
        "# accuracy with all the features\n",
        "#knn\n",
        "start_time = time.time()\n",
        "accuracy = knn_classifier(X_train, y_train['label_1'], X_val, y_val['label_1'] )\n",
        "elapsed_time = time.time() - start_time\n",
        "print(f\"Accuracy: {accuracy * 100:.2f}% in {elapsed_time} secs\")"
      ],
      "metadata": {
        "id": "pJsxifjvb4Gp",
        "colab": {
          "base_uri": "https://localhost:8080/"
        },
        "outputId": "93318ef3-2013-42f3-9769-cf434d3d4318"
      },
      "execution_count": 12,
      "outputs": [
        {
          "output_type": "stream",
          "name": "stdout",
          "text": [
            "Accuracy: 98.93% in 1.3849866390228271 secs\n"
          ]
        }
      ]
    },
    {
      "cell_type": "code",
      "source": [
        "# accuracy with all the features\n",
        "#logistic_regression_classifier\n",
        "start_time = time.time()\n",
        "accuracy = logistic_regression_classifier(X_train, y_train['label_1'], X_val, y_val['label_1'] )\n",
        "elapsed_time = time.time() - start_time\n",
        "print(f\"Accuracy: {accuracy * 100:.2f}% in {elapsed_time} secs\")"
      ],
      "metadata": {
        "id": "PMg0VNFQcrhX",
        "colab": {
          "base_uri": "https://localhost:8080/"
        },
        "outputId": "fbcca4f9-e2d9-4010-a17d-065f3faaa6af"
      },
      "execution_count": 13,
      "outputs": [
        {
          "output_type": "stream",
          "name": "stdout",
          "text": [
            "Accuracy: 99.20% in 21.48535466194153 secs\n"
          ]
        }
      ]
    },
    {
      "cell_type": "code",
      "source": [
        "label_1_pred_before = knn.predict(np.array(X_test))"
      ],
      "metadata": {
        "id": "jpsWGDmHL2PN"
      },
      "execution_count": 14,
      "outputs": []
    },
    {
      "cell_type": "code",
      "source": [
        "def pca_feature_selection(dataset, label, threshold=0.95):\n",
        "    X = dataset.drop(columns=[label])\n",
        "    y = dataset[label]\n",
        "\n",
        "    # Drop rows with NaN values\n",
        "    X = X.dropna()\n",
        "\n",
        "    pca = PCA()\n",
        "    X_pca = pca.fit_transform(X)\n",
        "\n",
        "    explained_variance_ratio = pca.explained_variance_ratio_\n",
        "    cum_explained_variance_ratio = np.cumsum(explained_variance_ratio)\n",
        "\n",
        "    n_components = np.argmax(cum_explained_variance_ratio >= threshold) + 1\n",
        "\n",
        "    selected_features = X.columns[:n_components].tolist()\n",
        "\n",
        "    return selected_features"
      ],
      "metadata": {
        "id": "-YhEGu9Yc77H"
      },
      "execution_count": 15,
      "outputs": []
    },
    {
      "cell_type": "code",
      "source": [
        "pca_features = pca_feature_selection(train, 'label_1', 0.7)\n",
        "len(set(pca_features))"
      ],
      "metadata": {
        "id": "TIanD8lKfKy_",
        "colab": {
          "base_uri": "https://localhost:8080/"
        },
        "outputId": "2727669d-8562-4dcd-f1c0-28398b249fee"
      },
      "execution_count": 16,
      "outputs": [
        {
          "output_type": "execute_result",
          "data": {
            "text/plain": [
              "19"
            ]
          },
          "metadata": {},
          "execution_count": 16
        }
      ]
    },
    {
      "cell_type": "code",
      "source": [
        "pca_features = pca_feature_selection(train, 'label_1', 0.98)\n",
        "print(f\"dropping features count {len(set(pca_features))}\")\n",
        "X_train_filtered = X_train.drop(columns=list(pca_features))\n",
        "X_val_filtered = X_val.drop(columns=list(pca_features))\n",
        "X_test_filtered = X_test.drop(columns=list(pca_features))\n",
        "start_time = time.time()\n",
        "accuracy = svm_classifier(X_train_filtered, y_train['label_1'], X_val_filtered, y_val['label_1'] )\n",
        "elapsed_time = time.time() - start_time\n",
        "print(f\"Accuracy: {accuracy * 100:.2f}% in {elapsed_time} secs\")"
      ],
      "metadata": {
        "id": "5qYRGAbpfS_2",
        "colab": {
          "base_uri": "https://localhost:8080/"
        },
        "outputId": "283414d1-e9eb-404e-dd4a-3bcad90bacea"
      },
      "execution_count": 17,
      "outputs": [
        {
          "output_type": "stream",
          "name": "stdout",
          "text": [
            "dropping features count 88\n",
            "Accuracy: 98.53% in 13.026349067687988 secs\n"
          ]
        }
      ]
    },
    {
      "cell_type": "code",
      "source": [
        "scaler = StandardScaler()\n",
        "X_train_scaled = scaler.fit_transform(X_train_filtered)\n",
        "X_val_scaled = scaler.transform(X_val_filtered)\n",
        "X_test_scaled = scaler.transform(X_test_filtered)"
      ],
      "metadata": {
        "id": "QR0lf6v4nkYG"
      },
      "execution_count": 18,
      "outputs": []
    },
    {
      "cell_type": "code",
      "source": [
        "start_time = time.time()\n",
        "accuracy = svm_classifier(X_train_scaled, y_train['label_1'], X_val_scaled, y_val['label_1'] )\n",
        "elapsed_time = time.time() - start_time\n",
        "print(f\"Accuracy: {accuracy * 100:.2f}% in {elapsed_time} secs\")"
      ],
      "metadata": {
        "id": "QgveuP1snttP",
        "colab": {
          "base_uri": "https://localhost:8080/"
        },
        "outputId": "7ad811f2-ca09-4bf3-f87c-1d4651795acb"
      },
      "execution_count": 19,
      "outputs": [
        {
          "output_type": "stream",
          "name": "stdout",
          "text": [
            "Accuracy: 98.67% in 13.326210498809814 secs\n"
          ]
        }
      ]
    },
    {
      "cell_type": "code",
      "source": [
        "X_train_scaled.shape"
      ],
      "metadata": {
        "id": "JH8TV-YvuqBp",
        "colab": {
          "base_uri": "https://localhost:8080/"
        },
        "outputId": "0777ac15-640e-44e3-95bf-f04c95db6dda"
      },
      "execution_count": 20,
      "outputs": [
        {
          "output_type": "execute_result",
          "data": {
            "text/plain": [
              "(28520, 168)"
            ]
          },
          "metadata": {},
          "execution_count": 20
        }
      ]
    },
    {
      "cell_type": "code",
      "source": [
        "pca = PCA(n_components=80, svd_solver = 'full')\n",
        "X_train_pca = pca.fit_transform(X_train_scaled)\n",
        "X_val_pca = pca.transform(X_val_scaled)\n",
        "X_test_pca = pca.transform(X_test_scaled)"
      ],
      "metadata": {
        "id": "NsvGCiJ4iuJ2"
      },
      "execution_count": 21,
      "outputs": []
    },
    {
      "cell_type": "code",
      "source": [
        "start_time = time.time()\n",
        "accuracy = svm_classifier(X_train_pca, y_train['label_1'], X_val_pca, y_val['label_1'] )\n",
        "elapsed_time = time.time() - start_time\n",
        "print(f\"Accuracy: {accuracy * 100:.2f}% in {elapsed_time} secs\")"
      ],
      "metadata": {
        "id": "p74xqqvhvS_M",
        "colab": {
          "base_uri": "https://localhost:8080/"
        },
        "outputId": "630dfcad-91ce-4420-f33d-482e8811bc87"
      },
      "execution_count": 22,
      "outputs": [
        {
          "output_type": "stream",
          "name": "stdout",
          "text": [
            "Accuracy: 97.33% in 10.310544967651367 secs\n"
          ]
        }
      ]
    },
    {
      "cell_type": "code",
      "source": [
        "X_train_pca.shape"
      ],
      "metadata": {
        "id": "uIOx2vrmng8H",
        "colab": {
          "base_uri": "https://localhost:8080/"
        },
        "outputId": "cb352da6-bda0-480e-d48a-e8152c6556da"
      },
      "execution_count": 23,
      "outputs": [
        {
          "output_type": "execute_result",
          "data": {
            "text/plain": [
              "(28520, 80)"
            ]
          },
          "metadata": {},
          "execution_count": 23
        }
      ]
    },
    {
      "cell_type": "code",
      "source": [
        "label_1_pred_after = svm.predict(np.array(X_test_pca))"
      ],
      "metadata": {
        "id": "LtzImnGTLdOr"
      },
      "execution_count": 24,
      "outputs": []
    },
    {
      "cell_type": "code",
      "source": [
        "label1_features = pd.DataFrame(data=X_test_pca, columns=[f'new_feature_{i+1}' for i in range(X_test_pca.shape[1])])\n",
        "label1_features.insert(0,'Predicted labels before feature engineering',label_1_pred_before)\n",
        "label1_features.insert(1,'Predicted labels after feature engineering', label_1_pred_after)\n",
        "label1_features.insert(2,'No of new features', X_test_pca.shape[1])"
      ],
      "metadata": {
        "id": "_9aZry9gNK-t"
      },
      "execution_count": 25,
      "outputs": []
    },
    {
      "cell_type": "markdown",
      "source": [
        "Label 2"
      ],
      "metadata": {
        "id": "GwFcUdxixFuQ"
      }
    },
    {
      "cell_type": "code",
      "source": [
        "label2_train = train.copy()\n",
        "label2_valid = valid.copy()\n",
        "label2_test = test.copy()\n",
        "label2_test.head()"
      ],
      "metadata": {
        "id": "GtQisDnnxG5q",
        "colab": {
          "base_uri": "https://localhost:8080/",
          "height": 255
        },
        "outputId": "4fbfc2f0-4829-44ad-9ec7-8fc2c7d9c00e"
      },
      "execution_count": 26,
      "outputs": [
        {
          "output_type": "execute_result",
          "data": {
            "text/plain": [
              "   feature_1  feature_2  feature_3  feature_4  feature_5  feature_6  \\\n",
              "0  -1.141206  -0.279703   1.019681   2.605902   0.460391  -1.167380   \n",
              "1  -1.796767  -0.056758   0.771219   4.414086  -1.229059   1.732098   \n",
              "2  -1.388968  -0.418296   0.186543   2.803852  -1.499095   1.395180   \n",
              "3   1.276844  -0.112323  -0.310796   2.251175   0.283670  -0.581020   \n",
              "4  -1.560815  -0.168494   1.249770   1.869219  -1.646049   0.132156   \n",
              "\n",
              "   feature_7  feature_8  feature_9  feature_10  ...  feature_251  feature_252  \\\n",
              "0  -1.149165  -1.205164   2.468966   -2.729526  ...    -0.868282    -0.429783   \n",
              "1   0.063241  -0.126311   1.322355   -3.461282  ...     0.227806     0.209200   \n",
              "2   0.739648   0.274060   1.228789   -3.081147  ...    -0.692679     0.449235   \n",
              "3  -0.024439  -0.306097   2.424685   -1.714863  ...    -0.690499    -1.077949   \n",
              "4  -0.664602   0.483327   1.728020   -2.258071  ...    -0.510597     1.213396   \n",
              "\n",
              "   feature_253  feature_254  feature_255  feature_256  label_1  label_2  \\\n",
              "0     0.438561    -1.625122     0.599944    -0.615575      NaN      NaN   \n",
              "1     2.200402    -1.701029     1.163999    -1.570136      NaN      NaN   \n",
              "2     1.377531    -1.854203    -0.040538    -2.164104      NaN      NaN   \n",
              "3     0.930102    -2.758352    -0.246738    -1.389013      NaN      NaN   \n",
              "4     2.497490    -1.597984    -0.163483    -1.735939      NaN      NaN   \n",
              "\n",
              "   label_3  label_4  \n",
              "0      NaN      NaN  \n",
              "1      NaN      NaN  \n",
              "2      NaN      NaN  \n",
              "3      NaN      NaN  \n",
              "4      NaN      NaN  \n",
              "\n",
              "[5 rows x 260 columns]"
            ],
            "text/html": [
              "\n",
              "  <div id=\"df-ceb577c0-f303-4dc8-b491-a70952faae75\" class=\"colab-df-container\">\n",
              "    <div>\n",
              "<style scoped>\n",
              "    .dataframe tbody tr th:only-of-type {\n",
              "        vertical-align: middle;\n",
              "    }\n",
              "\n",
              "    .dataframe tbody tr th {\n",
              "        vertical-align: top;\n",
              "    }\n",
              "\n",
              "    .dataframe thead th {\n",
              "        text-align: right;\n",
              "    }\n",
              "</style>\n",
              "<table border=\"1\" class=\"dataframe\">\n",
              "  <thead>\n",
              "    <tr style=\"text-align: right;\">\n",
              "      <th></th>\n",
              "      <th>feature_1</th>\n",
              "      <th>feature_2</th>\n",
              "      <th>feature_3</th>\n",
              "      <th>feature_4</th>\n",
              "      <th>feature_5</th>\n",
              "      <th>feature_6</th>\n",
              "      <th>feature_7</th>\n",
              "      <th>feature_8</th>\n",
              "      <th>feature_9</th>\n",
              "      <th>feature_10</th>\n",
              "      <th>...</th>\n",
              "      <th>feature_251</th>\n",
              "      <th>feature_252</th>\n",
              "      <th>feature_253</th>\n",
              "      <th>feature_254</th>\n",
              "      <th>feature_255</th>\n",
              "      <th>feature_256</th>\n",
              "      <th>label_1</th>\n",
              "      <th>label_2</th>\n",
              "      <th>label_3</th>\n",
              "      <th>label_4</th>\n",
              "    </tr>\n",
              "  </thead>\n",
              "  <tbody>\n",
              "    <tr>\n",
              "      <th>0</th>\n",
              "      <td>-1.141206</td>\n",
              "      <td>-0.279703</td>\n",
              "      <td>1.019681</td>\n",
              "      <td>2.605902</td>\n",
              "      <td>0.460391</td>\n",
              "      <td>-1.167380</td>\n",
              "      <td>-1.149165</td>\n",
              "      <td>-1.205164</td>\n",
              "      <td>2.468966</td>\n",
              "      <td>-2.729526</td>\n",
              "      <td>...</td>\n",
              "      <td>-0.868282</td>\n",
              "      <td>-0.429783</td>\n",
              "      <td>0.438561</td>\n",
              "      <td>-1.625122</td>\n",
              "      <td>0.599944</td>\n",
              "      <td>-0.615575</td>\n",
              "      <td>NaN</td>\n",
              "      <td>NaN</td>\n",
              "      <td>NaN</td>\n",
              "      <td>NaN</td>\n",
              "    </tr>\n",
              "    <tr>\n",
              "      <th>1</th>\n",
              "      <td>-1.796767</td>\n",
              "      <td>-0.056758</td>\n",
              "      <td>0.771219</td>\n",
              "      <td>4.414086</td>\n",
              "      <td>-1.229059</td>\n",
              "      <td>1.732098</td>\n",
              "      <td>0.063241</td>\n",
              "      <td>-0.126311</td>\n",
              "      <td>1.322355</td>\n",
              "      <td>-3.461282</td>\n",
              "      <td>...</td>\n",
              "      <td>0.227806</td>\n",
              "      <td>0.209200</td>\n",
              "      <td>2.200402</td>\n",
              "      <td>-1.701029</td>\n",
              "      <td>1.163999</td>\n",
              "      <td>-1.570136</td>\n",
              "      <td>NaN</td>\n",
              "      <td>NaN</td>\n",
              "      <td>NaN</td>\n",
              "      <td>NaN</td>\n",
              "    </tr>\n",
              "    <tr>\n",
              "      <th>2</th>\n",
              "      <td>-1.388968</td>\n",
              "      <td>-0.418296</td>\n",
              "      <td>0.186543</td>\n",
              "      <td>2.803852</td>\n",
              "      <td>-1.499095</td>\n",
              "      <td>1.395180</td>\n",
              "      <td>0.739648</td>\n",
              "      <td>0.274060</td>\n",
              "      <td>1.228789</td>\n",
              "      <td>-3.081147</td>\n",
              "      <td>...</td>\n",
              "      <td>-0.692679</td>\n",
              "      <td>0.449235</td>\n",
              "      <td>1.377531</td>\n",
              "      <td>-1.854203</td>\n",
              "      <td>-0.040538</td>\n",
              "      <td>-2.164104</td>\n",
              "      <td>NaN</td>\n",
              "      <td>NaN</td>\n",
              "      <td>NaN</td>\n",
              "      <td>NaN</td>\n",
              "    </tr>\n",
              "    <tr>\n",
              "      <th>3</th>\n",
              "      <td>1.276844</td>\n",
              "      <td>-0.112323</td>\n",
              "      <td>-0.310796</td>\n",
              "      <td>2.251175</td>\n",
              "      <td>0.283670</td>\n",
              "      <td>-0.581020</td>\n",
              "      <td>-0.024439</td>\n",
              "      <td>-0.306097</td>\n",
              "      <td>2.424685</td>\n",
              "      <td>-1.714863</td>\n",
              "      <td>...</td>\n",
              "      <td>-0.690499</td>\n",
              "      <td>-1.077949</td>\n",
              "      <td>0.930102</td>\n",
              "      <td>-2.758352</td>\n",
              "      <td>-0.246738</td>\n",
              "      <td>-1.389013</td>\n",
              "      <td>NaN</td>\n",
              "      <td>NaN</td>\n",
              "      <td>NaN</td>\n",
              "      <td>NaN</td>\n",
              "    </tr>\n",
              "    <tr>\n",
              "      <th>4</th>\n",
              "      <td>-1.560815</td>\n",
              "      <td>-0.168494</td>\n",
              "      <td>1.249770</td>\n",
              "      <td>1.869219</td>\n",
              "      <td>-1.646049</td>\n",
              "      <td>0.132156</td>\n",
              "      <td>-0.664602</td>\n",
              "      <td>0.483327</td>\n",
              "      <td>1.728020</td>\n",
              "      <td>-2.258071</td>\n",
              "      <td>...</td>\n",
              "      <td>-0.510597</td>\n",
              "      <td>1.213396</td>\n",
              "      <td>2.497490</td>\n",
              "      <td>-1.597984</td>\n",
              "      <td>-0.163483</td>\n",
              "      <td>-1.735939</td>\n",
              "      <td>NaN</td>\n",
              "      <td>NaN</td>\n",
              "      <td>NaN</td>\n",
              "      <td>NaN</td>\n",
              "    </tr>\n",
              "  </tbody>\n",
              "</table>\n",
              "<p>5 rows × 260 columns</p>\n",
              "</div>\n",
              "    <div class=\"colab-df-buttons\">\n",
              "\n",
              "  <div class=\"colab-df-container\">\n",
              "    <button class=\"colab-df-convert\" onclick=\"convertToInteractive('df-ceb577c0-f303-4dc8-b491-a70952faae75')\"\n",
              "            title=\"Convert this dataframe to an interactive table.\"\n",
              "            style=\"display:none;\">\n",
              "\n",
              "  <svg xmlns=\"http://www.w3.org/2000/svg\" height=\"24px\" viewBox=\"0 -960 960 960\">\n",
              "    <path d=\"M120-120v-720h720v720H120Zm60-500h600v-160H180v160Zm220 220h160v-160H400v160Zm0 220h160v-160H400v160ZM180-400h160v-160H180v160Zm440 0h160v-160H620v160ZM180-180h160v-160H180v160Zm440 0h160v-160H620v160Z\"/>\n",
              "  </svg>\n",
              "    </button>\n",
              "\n",
              "  <style>\n",
              "    .colab-df-container {\n",
              "      display:flex;\n",
              "      gap: 12px;\n",
              "    }\n",
              "\n",
              "    .colab-df-convert {\n",
              "      background-color: #E8F0FE;\n",
              "      border: none;\n",
              "      border-radius: 50%;\n",
              "      cursor: pointer;\n",
              "      display: none;\n",
              "      fill: #1967D2;\n",
              "      height: 32px;\n",
              "      padding: 0 0 0 0;\n",
              "      width: 32px;\n",
              "    }\n",
              "\n",
              "    .colab-df-convert:hover {\n",
              "      background-color: #E2EBFA;\n",
              "      box-shadow: 0px 1px 2px rgba(60, 64, 67, 0.3), 0px 1px 3px 1px rgba(60, 64, 67, 0.15);\n",
              "      fill: #174EA6;\n",
              "    }\n",
              "\n",
              "    .colab-df-buttons div {\n",
              "      margin-bottom: 4px;\n",
              "    }\n",
              "\n",
              "    [theme=dark] .colab-df-convert {\n",
              "      background-color: #3B4455;\n",
              "      fill: #D2E3FC;\n",
              "    }\n",
              "\n",
              "    [theme=dark] .colab-df-convert:hover {\n",
              "      background-color: #434B5C;\n",
              "      box-shadow: 0px 1px 3px 1px rgba(0, 0, 0, 0.15);\n",
              "      filter: drop-shadow(0px 1px 2px rgba(0, 0, 0, 0.3));\n",
              "      fill: #FFFFFF;\n",
              "    }\n",
              "  </style>\n",
              "\n",
              "    <script>\n",
              "      const buttonEl =\n",
              "        document.querySelector('#df-ceb577c0-f303-4dc8-b491-a70952faae75 button.colab-df-convert');\n",
              "      buttonEl.style.display =\n",
              "        google.colab.kernel.accessAllowed ? 'block' : 'none';\n",
              "\n",
              "      async function convertToInteractive(key) {\n",
              "        const element = document.querySelector('#df-ceb577c0-f303-4dc8-b491-a70952faae75');\n",
              "        const dataTable =\n",
              "          await google.colab.kernel.invokeFunction('convertToInteractive',\n",
              "                                                    [key], {});\n",
              "        if (!dataTable) return;\n",
              "\n",
              "        const docLinkHtml = 'Like what you see? Visit the ' +\n",
              "          '<a target=\"_blank\" href=https://colab.research.google.com/notebooks/data_table.ipynb>data table notebook</a>'\n",
              "          + ' to learn more about interactive tables.';\n",
              "        element.innerHTML = '';\n",
              "        dataTable['output_type'] = 'display_data';\n",
              "        await google.colab.output.renderOutput(dataTable, element);\n",
              "        const docLink = document.createElement('div');\n",
              "        docLink.innerHTML = docLinkHtml;\n",
              "        element.appendChild(docLink);\n",
              "      }\n",
              "    </script>\n",
              "  </div>\n",
              "\n",
              "\n",
              "<div id=\"df-95146493-72ad-4174-b307-6e08f1607702\">\n",
              "  <button class=\"colab-df-quickchart\" onclick=\"quickchart('df-95146493-72ad-4174-b307-6e08f1607702')\"\n",
              "            title=\"Suggest charts.\"\n",
              "            style=\"display:none;\">\n",
              "\n",
              "<svg xmlns=\"http://www.w3.org/2000/svg\" height=\"24px\"viewBox=\"0 0 24 24\"\n",
              "     width=\"24px\">\n",
              "    <g>\n",
              "        <path d=\"M19 3H5c-1.1 0-2 .9-2 2v14c0 1.1.9 2 2 2h14c1.1 0 2-.9 2-2V5c0-1.1-.9-2-2-2zM9 17H7v-7h2v7zm4 0h-2V7h2v10zm4 0h-2v-4h2v4z\"/>\n",
              "    </g>\n",
              "</svg>\n",
              "  </button>\n",
              "\n",
              "<style>\n",
              "  .colab-df-quickchart {\n",
              "      --bg-color: #E8F0FE;\n",
              "      --fill-color: #1967D2;\n",
              "      --hover-bg-color: #E2EBFA;\n",
              "      --hover-fill-color: #174EA6;\n",
              "      --disabled-fill-color: #AAA;\n",
              "      --disabled-bg-color: #DDD;\n",
              "  }\n",
              "\n",
              "  [theme=dark] .colab-df-quickchart {\n",
              "      --bg-color: #3B4455;\n",
              "      --fill-color: #D2E3FC;\n",
              "      --hover-bg-color: #434B5C;\n",
              "      --hover-fill-color: #FFFFFF;\n",
              "      --disabled-bg-color: #3B4455;\n",
              "      --disabled-fill-color: #666;\n",
              "  }\n",
              "\n",
              "  .colab-df-quickchart {\n",
              "    background-color: var(--bg-color);\n",
              "    border: none;\n",
              "    border-radius: 50%;\n",
              "    cursor: pointer;\n",
              "    display: none;\n",
              "    fill: var(--fill-color);\n",
              "    height: 32px;\n",
              "    padding: 0;\n",
              "    width: 32px;\n",
              "  }\n",
              "\n",
              "  .colab-df-quickchart:hover {\n",
              "    background-color: var(--hover-bg-color);\n",
              "    box-shadow: 0 1px 2px rgba(60, 64, 67, 0.3), 0 1px 3px 1px rgba(60, 64, 67, 0.15);\n",
              "    fill: var(--button-hover-fill-color);\n",
              "  }\n",
              "\n",
              "  .colab-df-quickchart-complete:disabled,\n",
              "  .colab-df-quickchart-complete:disabled:hover {\n",
              "    background-color: var(--disabled-bg-color);\n",
              "    fill: var(--disabled-fill-color);\n",
              "    box-shadow: none;\n",
              "  }\n",
              "\n",
              "  .colab-df-spinner {\n",
              "    border: 2px solid var(--fill-color);\n",
              "    border-color: transparent;\n",
              "    border-bottom-color: var(--fill-color);\n",
              "    animation:\n",
              "      spin 1s steps(1) infinite;\n",
              "  }\n",
              "\n",
              "  @keyframes spin {\n",
              "    0% {\n",
              "      border-color: transparent;\n",
              "      border-bottom-color: var(--fill-color);\n",
              "      border-left-color: var(--fill-color);\n",
              "    }\n",
              "    20% {\n",
              "      border-color: transparent;\n",
              "      border-left-color: var(--fill-color);\n",
              "      border-top-color: var(--fill-color);\n",
              "    }\n",
              "    30% {\n",
              "      border-color: transparent;\n",
              "      border-left-color: var(--fill-color);\n",
              "      border-top-color: var(--fill-color);\n",
              "      border-right-color: var(--fill-color);\n",
              "    }\n",
              "    40% {\n",
              "      border-color: transparent;\n",
              "      border-right-color: var(--fill-color);\n",
              "      border-top-color: var(--fill-color);\n",
              "    }\n",
              "    60% {\n",
              "      border-color: transparent;\n",
              "      border-right-color: var(--fill-color);\n",
              "    }\n",
              "    80% {\n",
              "      border-color: transparent;\n",
              "      border-right-color: var(--fill-color);\n",
              "      border-bottom-color: var(--fill-color);\n",
              "    }\n",
              "    90% {\n",
              "      border-color: transparent;\n",
              "      border-bottom-color: var(--fill-color);\n",
              "    }\n",
              "  }\n",
              "</style>\n",
              "\n",
              "  <script>\n",
              "    async function quickchart(key) {\n",
              "      const quickchartButtonEl =\n",
              "        document.querySelector('#' + key + ' button');\n",
              "      quickchartButtonEl.disabled = true;  // To prevent multiple clicks.\n",
              "      quickchartButtonEl.classList.add('colab-df-spinner');\n",
              "      try {\n",
              "        const charts = await google.colab.kernel.invokeFunction(\n",
              "            'suggestCharts', [key], {});\n",
              "      } catch (error) {\n",
              "        console.error('Error during call to suggestCharts:', error);\n",
              "      }\n",
              "      quickchartButtonEl.classList.remove('colab-df-spinner');\n",
              "      quickchartButtonEl.classList.add('colab-df-quickchart-complete');\n",
              "    }\n",
              "    (() => {\n",
              "      let quickchartButtonEl =\n",
              "        document.querySelector('#df-95146493-72ad-4174-b307-6e08f1607702 button');\n",
              "      quickchartButtonEl.style.display =\n",
              "        google.colab.kernel.accessAllowed ? 'block' : 'none';\n",
              "    })();\n",
              "  </script>\n",
              "</div>\n",
              "    </div>\n",
              "  </div>\n"
            ]
          },
          "metadata": {},
          "execution_count": 26
        }
      ]
    },
    {
      "cell_type": "code",
      "source": [
        "label2_train = label2_train.dropna(subset=['label_2'])\n",
        "label2_valid = label2_valid.dropna(subset=['label_2'])"
      ],
      "metadata": {
        "id": "vSmw8-OBxLl1"
      },
      "execution_count": 27,
      "outputs": []
    },
    {
      "cell_type": "code",
      "source": [
        "X_train = label2_train.iloc[:, :-4]\n",
        "y_train = label2_train.iloc[:, -3:]\n",
        "X_val = label2_valid.iloc[:, :-4]\n",
        "y_val = label2_valid.iloc[:, -3:]\n",
        "X_test = label2_test.iloc[:, :-4]\n",
        "y_test = label2_test.iloc[:, -3:]"
      ],
      "metadata": {
        "id": "7MwepTX7xNJ7"
      },
      "execution_count": 28,
      "outputs": []
    },
    {
      "cell_type": "code",
      "source": [
        "X_test.head()"
      ],
      "metadata": {
        "id": "aRm0rjoA4Kyp",
        "colab": {
          "base_uri": "https://localhost:8080/",
          "height": 255
        },
        "outputId": "7075736a-f4ed-4d7d-a6a5-a3e877372228"
      },
      "execution_count": 29,
      "outputs": [
        {
          "output_type": "execute_result",
          "data": {
            "text/plain": [
              "   feature_1  feature_2  feature_3  feature_4  feature_5  feature_6  \\\n",
              "0  -1.141206  -0.279703   1.019681   2.605902   0.460391  -1.167380   \n",
              "1  -1.796767  -0.056758   0.771219   4.414086  -1.229059   1.732098   \n",
              "2  -1.388968  -0.418296   0.186543   2.803852  -1.499095   1.395180   \n",
              "3   1.276844  -0.112323  -0.310796   2.251175   0.283670  -0.581020   \n",
              "4  -1.560815  -0.168494   1.249770   1.869219  -1.646049   0.132156   \n",
              "\n",
              "   feature_7  feature_8  feature_9  feature_10  ...  feature_247  feature_248  \\\n",
              "0  -1.149165  -1.205164   2.468966   -2.729526  ...     1.670388    -0.355608   \n",
              "1   0.063241  -0.126311   1.322355   -3.461282  ...     1.136570     0.826741   \n",
              "2   0.739648   0.274060   1.228789   -3.081147  ...     0.343188    -0.243809   \n",
              "3  -0.024439  -0.306097   2.424685   -1.714863  ...     3.057573    -0.632902   \n",
              "4  -0.664602   0.483327   1.728020   -2.258071  ...     1.217447    -0.374313   \n",
              "\n",
              "   feature_249  feature_250  feature_251  feature_252  feature_253  \\\n",
              "0    -0.342747    -0.102831    -0.868282    -0.429783     0.438561   \n",
              "1    -0.371280    -1.492272     0.227806     0.209200     2.200402   \n",
              "2     0.462302    -1.511495    -0.692679     0.449235     1.377531   \n",
              "3     1.511204    -0.658826    -0.690499    -1.077949     0.930102   \n",
              "4     1.280207    -1.546299    -0.510597     1.213396     2.497490   \n",
              "\n",
              "   feature_254  feature_255  feature_256  \n",
              "0    -1.625122     0.599944    -0.615575  \n",
              "1    -1.701029     1.163999    -1.570136  \n",
              "2    -1.854203    -0.040538    -2.164104  \n",
              "3    -2.758352    -0.246738    -1.389013  \n",
              "4    -1.597984    -0.163483    -1.735939  \n",
              "\n",
              "[5 rows x 256 columns]"
            ],
            "text/html": [
              "\n",
              "  <div id=\"df-9981a9a3-ada4-42eb-b1c7-435cc43abceb\" class=\"colab-df-container\">\n",
              "    <div>\n",
              "<style scoped>\n",
              "    .dataframe tbody tr th:only-of-type {\n",
              "        vertical-align: middle;\n",
              "    }\n",
              "\n",
              "    .dataframe tbody tr th {\n",
              "        vertical-align: top;\n",
              "    }\n",
              "\n",
              "    .dataframe thead th {\n",
              "        text-align: right;\n",
              "    }\n",
              "</style>\n",
              "<table border=\"1\" class=\"dataframe\">\n",
              "  <thead>\n",
              "    <tr style=\"text-align: right;\">\n",
              "      <th></th>\n",
              "      <th>feature_1</th>\n",
              "      <th>feature_2</th>\n",
              "      <th>feature_3</th>\n",
              "      <th>feature_4</th>\n",
              "      <th>feature_5</th>\n",
              "      <th>feature_6</th>\n",
              "      <th>feature_7</th>\n",
              "      <th>feature_8</th>\n",
              "      <th>feature_9</th>\n",
              "      <th>feature_10</th>\n",
              "      <th>...</th>\n",
              "      <th>feature_247</th>\n",
              "      <th>feature_248</th>\n",
              "      <th>feature_249</th>\n",
              "      <th>feature_250</th>\n",
              "      <th>feature_251</th>\n",
              "      <th>feature_252</th>\n",
              "      <th>feature_253</th>\n",
              "      <th>feature_254</th>\n",
              "      <th>feature_255</th>\n",
              "      <th>feature_256</th>\n",
              "    </tr>\n",
              "  </thead>\n",
              "  <tbody>\n",
              "    <tr>\n",
              "      <th>0</th>\n",
              "      <td>-1.141206</td>\n",
              "      <td>-0.279703</td>\n",
              "      <td>1.019681</td>\n",
              "      <td>2.605902</td>\n",
              "      <td>0.460391</td>\n",
              "      <td>-1.167380</td>\n",
              "      <td>-1.149165</td>\n",
              "      <td>-1.205164</td>\n",
              "      <td>2.468966</td>\n",
              "      <td>-2.729526</td>\n",
              "      <td>...</td>\n",
              "      <td>1.670388</td>\n",
              "      <td>-0.355608</td>\n",
              "      <td>-0.342747</td>\n",
              "      <td>-0.102831</td>\n",
              "      <td>-0.868282</td>\n",
              "      <td>-0.429783</td>\n",
              "      <td>0.438561</td>\n",
              "      <td>-1.625122</td>\n",
              "      <td>0.599944</td>\n",
              "      <td>-0.615575</td>\n",
              "    </tr>\n",
              "    <tr>\n",
              "      <th>1</th>\n",
              "      <td>-1.796767</td>\n",
              "      <td>-0.056758</td>\n",
              "      <td>0.771219</td>\n",
              "      <td>4.414086</td>\n",
              "      <td>-1.229059</td>\n",
              "      <td>1.732098</td>\n",
              "      <td>0.063241</td>\n",
              "      <td>-0.126311</td>\n",
              "      <td>1.322355</td>\n",
              "      <td>-3.461282</td>\n",
              "      <td>...</td>\n",
              "      <td>1.136570</td>\n",
              "      <td>0.826741</td>\n",
              "      <td>-0.371280</td>\n",
              "      <td>-1.492272</td>\n",
              "      <td>0.227806</td>\n",
              "      <td>0.209200</td>\n",
              "      <td>2.200402</td>\n",
              "      <td>-1.701029</td>\n",
              "      <td>1.163999</td>\n",
              "      <td>-1.570136</td>\n",
              "    </tr>\n",
              "    <tr>\n",
              "      <th>2</th>\n",
              "      <td>-1.388968</td>\n",
              "      <td>-0.418296</td>\n",
              "      <td>0.186543</td>\n",
              "      <td>2.803852</td>\n",
              "      <td>-1.499095</td>\n",
              "      <td>1.395180</td>\n",
              "      <td>0.739648</td>\n",
              "      <td>0.274060</td>\n",
              "      <td>1.228789</td>\n",
              "      <td>-3.081147</td>\n",
              "      <td>...</td>\n",
              "      <td>0.343188</td>\n",
              "      <td>-0.243809</td>\n",
              "      <td>0.462302</td>\n",
              "      <td>-1.511495</td>\n",
              "      <td>-0.692679</td>\n",
              "      <td>0.449235</td>\n",
              "      <td>1.377531</td>\n",
              "      <td>-1.854203</td>\n",
              "      <td>-0.040538</td>\n",
              "      <td>-2.164104</td>\n",
              "    </tr>\n",
              "    <tr>\n",
              "      <th>3</th>\n",
              "      <td>1.276844</td>\n",
              "      <td>-0.112323</td>\n",
              "      <td>-0.310796</td>\n",
              "      <td>2.251175</td>\n",
              "      <td>0.283670</td>\n",
              "      <td>-0.581020</td>\n",
              "      <td>-0.024439</td>\n",
              "      <td>-0.306097</td>\n",
              "      <td>2.424685</td>\n",
              "      <td>-1.714863</td>\n",
              "      <td>...</td>\n",
              "      <td>3.057573</td>\n",
              "      <td>-0.632902</td>\n",
              "      <td>1.511204</td>\n",
              "      <td>-0.658826</td>\n",
              "      <td>-0.690499</td>\n",
              "      <td>-1.077949</td>\n",
              "      <td>0.930102</td>\n",
              "      <td>-2.758352</td>\n",
              "      <td>-0.246738</td>\n",
              "      <td>-1.389013</td>\n",
              "    </tr>\n",
              "    <tr>\n",
              "      <th>4</th>\n",
              "      <td>-1.560815</td>\n",
              "      <td>-0.168494</td>\n",
              "      <td>1.249770</td>\n",
              "      <td>1.869219</td>\n",
              "      <td>-1.646049</td>\n",
              "      <td>0.132156</td>\n",
              "      <td>-0.664602</td>\n",
              "      <td>0.483327</td>\n",
              "      <td>1.728020</td>\n",
              "      <td>-2.258071</td>\n",
              "      <td>...</td>\n",
              "      <td>1.217447</td>\n",
              "      <td>-0.374313</td>\n",
              "      <td>1.280207</td>\n",
              "      <td>-1.546299</td>\n",
              "      <td>-0.510597</td>\n",
              "      <td>1.213396</td>\n",
              "      <td>2.497490</td>\n",
              "      <td>-1.597984</td>\n",
              "      <td>-0.163483</td>\n",
              "      <td>-1.735939</td>\n",
              "    </tr>\n",
              "  </tbody>\n",
              "</table>\n",
              "<p>5 rows × 256 columns</p>\n",
              "</div>\n",
              "    <div class=\"colab-df-buttons\">\n",
              "\n",
              "  <div class=\"colab-df-container\">\n",
              "    <button class=\"colab-df-convert\" onclick=\"convertToInteractive('df-9981a9a3-ada4-42eb-b1c7-435cc43abceb')\"\n",
              "            title=\"Convert this dataframe to an interactive table.\"\n",
              "            style=\"display:none;\">\n",
              "\n",
              "  <svg xmlns=\"http://www.w3.org/2000/svg\" height=\"24px\" viewBox=\"0 -960 960 960\">\n",
              "    <path d=\"M120-120v-720h720v720H120Zm60-500h600v-160H180v160Zm220 220h160v-160H400v160Zm0 220h160v-160H400v160ZM180-400h160v-160H180v160Zm440 0h160v-160H620v160ZM180-180h160v-160H180v160Zm440 0h160v-160H620v160Z\"/>\n",
              "  </svg>\n",
              "    </button>\n",
              "\n",
              "  <style>\n",
              "    .colab-df-container {\n",
              "      display:flex;\n",
              "      gap: 12px;\n",
              "    }\n",
              "\n",
              "    .colab-df-convert {\n",
              "      background-color: #E8F0FE;\n",
              "      border: none;\n",
              "      border-radius: 50%;\n",
              "      cursor: pointer;\n",
              "      display: none;\n",
              "      fill: #1967D2;\n",
              "      height: 32px;\n",
              "      padding: 0 0 0 0;\n",
              "      width: 32px;\n",
              "    }\n",
              "\n",
              "    .colab-df-convert:hover {\n",
              "      background-color: #E2EBFA;\n",
              "      box-shadow: 0px 1px 2px rgba(60, 64, 67, 0.3), 0px 1px 3px 1px rgba(60, 64, 67, 0.15);\n",
              "      fill: #174EA6;\n",
              "    }\n",
              "\n",
              "    .colab-df-buttons div {\n",
              "      margin-bottom: 4px;\n",
              "    }\n",
              "\n",
              "    [theme=dark] .colab-df-convert {\n",
              "      background-color: #3B4455;\n",
              "      fill: #D2E3FC;\n",
              "    }\n",
              "\n",
              "    [theme=dark] .colab-df-convert:hover {\n",
              "      background-color: #434B5C;\n",
              "      box-shadow: 0px 1px 3px 1px rgba(0, 0, 0, 0.15);\n",
              "      filter: drop-shadow(0px 1px 2px rgba(0, 0, 0, 0.3));\n",
              "      fill: #FFFFFF;\n",
              "    }\n",
              "  </style>\n",
              "\n",
              "    <script>\n",
              "      const buttonEl =\n",
              "        document.querySelector('#df-9981a9a3-ada4-42eb-b1c7-435cc43abceb button.colab-df-convert');\n",
              "      buttonEl.style.display =\n",
              "        google.colab.kernel.accessAllowed ? 'block' : 'none';\n",
              "\n",
              "      async function convertToInteractive(key) {\n",
              "        const element = document.querySelector('#df-9981a9a3-ada4-42eb-b1c7-435cc43abceb');\n",
              "        const dataTable =\n",
              "          await google.colab.kernel.invokeFunction('convertToInteractive',\n",
              "                                                    [key], {});\n",
              "        if (!dataTable) return;\n",
              "\n",
              "        const docLinkHtml = 'Like what you see? Visit the ' +\n",
              "          '<a target=\"_blank\" href=https://colab.research.google.com/notebooks/data_table.ipynb>data table notebook</a>'\n",
              "          + ' to learn more about interactive tables.';\n",
              "        element.innerHTML = '';\n",
              "        dataTable['output_type'] = 'display_data';\n",
              "        await google.colab.output.renderOutput(dataTable, element);\n",
              "        const docLink = document.createElement('div');\n",
              "        docLink.innerHTML = docLinkHtml;\n",
              "        element.appendChild(docLink);\n",
              "      }\n",
              "    </script>\n",
              "  </div>\n",
              "\n",
              "\n",
              "<div id=\"df-f11d582b-979c-4131-bbee-48ffb4620f9b\">\n",
              "  <button class=\"colab-df-quickchart\" onclick=\"quickchart('df-f11d582b-979c-4131-bbee-48ffb4620f9b')\"\n",
              "            title=\"Suggest charts.\"\n",
              "            style=\"display:none;\">\n",
              "\n",
              "<svg xmlns=\"http://www.w3.org/2000/svg\" height=\"24px\"viewBox=\"0 0 24 24\"\n",
              "     width=\"24px\">\n",
              "    <g>\n",
              "        <path d=\"M19 3H5c-1.1 0-2 .9-2 2v14c0 1.1.9 2 2 2h14c1.1 0 2-.9 2-2V5c0-1.1-.9-2-2-2zM9 17H7v-7h2v7zm4 0h-2V7h2v10zm4 0h-2v-4h2v4z\"/>\n",
              "    </g>\n",
              "</svg>\n",
              "  </button>\n",
              "\n",
              "<style>\n",
              "  .colab-df-quickchart {\n",
              "      --bg-color: #E8F0FE;\n",
              "      --fill-color: #1967D2;\n",
              "      --hover-bg-color: #E2EBFA;\n",
              "      --hover-fill-color: #174EA6;\n",
              "      --disabled-fill-color: #AAA;\n",
              "      --disabled-bg-color: #DDD;\n",
              "  }\n",
              "\n",
              "  [theme=dark] .colab-df-quickchart {\n",
              "      --bg-color: #3B4455;\n",
              "      --fill-color: #D2E3FC;\n",
              "      --hover-bg-color: #434B5C;\n",
              "      --hover-fill-color: #FFFFFF;\n",
              "      --disabled-bg-color: #3B4455;\n",
              "      --disabled-fill-color: #666;\n",
              "  }\n",
              "\n",
              "  .colab-df-quickchart {\n",
              "    background-color: var(--bg-color);\n",
              "    border: none;\n",
              "    border-radius: 50%;\n",
              "    cursor: pointer;\n",
              "    display: none;\n",
              "    fill: var(--fill-color);\n",
              "    height: 32px;\n",
              "    padding: 0;\n",
              "    width: 32px;\n",
              "  }\n",
              "\n",
              "  .colab-df-quickchart:hover {\n",
              "    background-color: var(--hover-bg-color);\n",
              "    box-shadow: 0 1px 2px rgba(60, 64, 67, 0.3), 0 1px 3px 1px rgba(60, 64, 67, 0.15);\n",
              "    fill: var(--button-hover-fill-color);\n",
              "  }\n",
              "\n",
              "  .colab-df-quickchart-complete:disabled,\n",
              "  .colab-df-quickchart-complete:disabled:hover {\n",
              "    background-color: var(--disabled-bg-color);\n",
              "    fill: var(--disabled-fill-color);\n",
              "    box-shadow: none;\n",
              "  }\n",
              "\n",
              "  .colab-df-spinner {\n",
              "    border: 2px solid var(--fill-color);\n",
              "    border-color: transparent;\n",
              "    border-bottom-color: var(--fill-color);\n",
              "    animation:\n",
              "      spin 1s steps(1) infinite;\n",
              "  }\n",
              "\n",
              "  @keyframes spin {\n",
              "    0% {\n",
              "      border-color: transparent;\n",
              "      border-bottom-color: var(--fill-color);\n",
              "      border-left-color: var(--fill-color);\n",
              "    }\n",
              "    20% {\n",
              "      border-color: transparent;\n",
              "      border-left-color: var(--fill-color);\n",
              "      border-top-color: var(--fill-color);\n",
              "    }\n",
              "    30% {\n",
              "      border-color: transparent;\n",
              "      border-left-color: var(--fill-color);\n",
              "      border-top-color: var(--fill-color);\n",
              "      border-right-color: var(--fill-color);\n",
              "    }\n",
              "    40% {\n",
              "      border-color: transparent;\n",
              "      border-right-color: var(--fill-color);\n",
              "      border-top-color: var(--fill-color);\n",
              "    }\n",
              "    60% {\n",
              "      border-color: transparent;\n",
              "      border-right-color: var(--fill-color);\n",
              "    }\n",
              "    80% {\n",
              "      border-color: transparent;\n",
              "      border-right-color: var(--fill-color);\n",
              "      border-bottom-color: var(--fill-color);\n",
              "    }\n",
              "    90% {\n",
              "      border-color: transparent;\n",
              "      border-bottom-color: var(--fill-color);\n",
              "    }\n",
              "  }\n",
              "</style>\n",
              "\n",
              "  <script>\n",
              "    async function quickchart(key) {\n",
              "      const quickchartButtonEl =\n",
              "        document.querySelector('#' + key + ' button');\n",
              "      quickchartButtonEl.disabled = true;  // To prevent multiple clicks.\n",
              "      quickchartButtonEl.classList.add('colab-df-spinner');\n",
              "      try {\n",
              "        const charts = await google.colab.kernel.invokeFunction(\n",
              "            'suggestCharts', [key], {});\n",
              "      } catch (error) {\n",
              "        console.error('Error during call to suggestCharts:', error);\n",
              "      }\n",
              "      quickchartButtonEl.classList.remove('colab-df-spinner');\n",
              "      quickchartButtonEl.classList.add('colab-df-quickchart-complete');\n",
              "    }\n",
              "    (() => {\n",
              "      let quickchartButtonEl =\n",
              "        document.querySelector('#df-f11d582b-979c-4131-bbee-48ffb4620f9b button');\n",
              "      quickchartButtonEl.style.display =\n",
              "        google.colab.kernel.accessAllowed ? 'block' : 'none';\n",
              "    })();\n",
              "  </script>\n",
              "</div>\n",
              "    </div>\n",
              "  </div>\n"
            ]
          },
          "metadata": {},
          "execution_count": 29
        }
      ]
    },
    {
      "cell_type": "code",
      "source": [
        "plt.figure(figsize=(18, 6))\n",
        "sn.histplot(data=y_train, x='label_2', bins=20, kde=False)"
      ],
      "metadata": {
        "id": "U2RC1kQOxWH1",
        "colab": {
          "base_uri": "https://localhost:8080/",
          "height": 484
        },
        "outputId": "0c898511-2899-443e-f0b3-377ad0de5268"
      },
      "execution_count": 30,
      "outputs": [
        {
          "output_type": "execute_result",
          "data": {
            "text/plain": [
              "<Axes: xlabel='label_2', ylabel='Count'>"
            ]
          },
          "metadata": {},
          "execution_count": 30
        },
        {
          "output_type": "display_data",
          "data": {
            "text/plain": [
              "<Figure size 1800x600 with 1 Axes>"
            ],
            "image/png": "[encoded data removed]"
          },
          "metadata": {}
        }
      ]
    },
    {
      "cell_type": "code",
      "source": [
        "# accuracy with all the features\n",
        "#svm\n",
        "start_time = time.time()\n",
        "accuracy = svm_classifier(X_train, y_train['label_2'], X_val, y_val['label_2'] )\n",
        "elapsed_time = time.time() - start_time\n",
        "print(f\"Accuracy: {accuracy * 100:.2f}% in {elapsed_time} secs\")"
      ],
      "metadata": {
        "id": "rGfCOe1CxcDT",
        "colab": {
          "base_uri": "https://localhost:8080/"
        },
        "outputId": "d50d2c83-cc63-4670-820f-56f91557f123"
      },
      "execution_count": 31,
      "outputs": [
        {
          "output_type": "stream",
          "name": "stdout",
          "text": [
            "Accuracy: 90.08% in 101.95894527435303 secs\n"
          ]
        }
      ]
    },
    {
      "cell_type": "code",
      "source": [
        "# accuracy with all the features\n",
        "#knn\n",
        "start_time = time.time()\n",
        "accuracy = knn_classifier(X_train, y_train['label_2'], X_val, y_val['label_2'] )\n",
        "elapsed_time = time.time() - start_time\n",
        "print(f\"Accuracy: {accuracy * 100:.2f}% in {elapsed_time} secs\")"
      ],
      "metadata": {
        "id": "RrVpPv5RyBW2",
        "colab": {
          "base_uri": "https://localhost:8080/"
        },
        "outputId": "8c559d91-c5b8-4747-9572-e660bd19adbc"
      },
      "execution_count": 32,
      "outputs": [
        {
          "output_type": "stream",
          "name": "stdout",
          "text": [
            "Accuracy: 99.05% in 0.4796879291534424 secs\n"
          ]
        }
      ]
    },
    {
      "cell_type": "code",
      "source": [
        "# accuracy with all the features\n",
        "#logistic_regression_classifier\n",
        "start_time = time.time()\n",
        "accuracy = logistic_regression_classifier(X_train, y_train['label_2'], X_val, y_val['label_2'] )\n",
        "elapsed_time = time.time() - start_time\n",
        "print(f\"Accuracy: {accuracy * 100:.2f}% in {elapsed_time} secs\")"
      ],
      "metadata": {
        "id": "A9vEqopkyHiv",
        "colab": {
          "base_uri": "https://localhost:8080/"
        },
        "outputId": "2c71242d-d08a-4024-f575-42a7a1774155"
      },
      "execution_count": 33,
      "outputs": [
        {
          "output_type": "stream",
          "name": "stdout",
          "text": [
            "Accuracy: 78.53% in 7.044412851333618 secs\n"
          ]
        }
      ]
    },
    {
      "cell_type": "code",
      "source": [
        "label_2_pred_before = knn.predict(np.array(X_test))"
      ],
      "metadata": {
        "id": "orTcWMo2OwCV"
      },
      "execution_count": 34,
      "outputs": []
    },
    {
      "cell_type": "code",
      "source": [
        "pca_features = pca_feature_selection(train, 'label_2', 0.999)\n",
        "print(f\"dropping features count {len(set(pca_features))}\")\n",
        "X_train_filtered = X_train.drop(columns=list(pca_features))\n",
        "X_val_filtered = X_val.drop(columns=list(pca_features))\n",
        "X_test_filtered = X_test.drop(columns=list(pca_features))\n",
        "start_time = time.time()\n",
        "accuracy = knn_classifier(X_train_filtered, y_train['label_2'], X_val_filtered, y_val['label_2'] )\n",
        "elapsed_time = time.time() - start_time\n",
        "print(f\"Accuracy: {accuracy * 100:.2f}% in {elapsed_time} secs\")"
      ],
      "metadata": {
        "id": "wii0aQLpyPW8",
        "colab": {
          "base_uri": "https://localhost:8080/"
        },
        "outputId": "ab1dc2f0-a16c-4425-ebd7-07923dd03e81"
      },
      "execution_count": 35,
      "outputs": [
        {
          "output_type": "stream",
          "name": "stdout",
          "text": [
            "dropping features count 149\n",
            "Accuracy: 98.51% in 0.27832579612731934 secs\n"
          ]
        }
      ]
    },
    {
      "cell_type": "code",
      "source": [
        "scaler = StandardScaler()\n",
        "X_train_scaled = scaler.fit_transform(X_train_filtered)\n",
        "X_val_scaled = scaler.transform(X_val_filtered)\n",
        "X_test_scaled = scaler.transform(X_test_filtered)"
      ],
      "metadata": {
        "id": "9SdmZA88z4Sj"
      },
      "execution_count": 36,
      "outputs": []
    },
    {
      "cell_type": "code",
      "source": [
        "start_time = time.time()\n",
        "accuracy = knn_classifier(X_train_scaled, y_train['label_2'], X_val_scaled, y_val['label_2'] )\n",
        "elapsed_time = time.time() - start_time\n",
        "print(f\"Accuracy: {accuracy * 100:.2f}% in {elapsed_time} secs\")"
      ],
      "metadata": {
        "id": "MoeQYXQ10V2y",
        "colab": {
          "base_uri": "https://localhost:8080/"
        },
        "outputId": "0d75fcd9-0f87-48ed-a869-17d149436141"
      },
      "execution_count": 37,
      "outputs": [
        {
          "output_type": "stream",
          "name": "stdout",
          "text": [
            "Accuracy: 98.51% in 0.2439119815826416 secs\n"
          ]
        }
      ]
    },
    {
      "cell_type": "code",
      "source": [
        "X_train_scaled.shape"
      ],
      "metadata": {
        "id": "JQCSfwb30ZHP",
        "colab": {
          "base_uri": "https://localhost:8080/"
        },
        "outputId": "c165225b-af5f-4edc-9ad2-e106c1f141f7"
      },
      "execution_count": 38,
      "outputs": [
        {
          "output_type": "execute_result",
          "data": {
            "text/plain": [
              "(28040, 107)"
            ]
          },
          "metadata": {},
          "execution_count": 38
        }
      ]
    },
    {
      "cell_type": "code",
      "source": [
        "pca = PCA(n_components=38, svd_solver = 'full')\n",
        "X_train_pca = pca.fit_transform(X_train_scaled)\n",
        "X_val_pca = pca.transform(X_val_scaled)\n",
        "X_test_pca = pca.transform(X_test_scaled)"
      ],
      "metadata": {
        "id": "IVf4MAx10c8G"
      },
      "execution_count": 39,
      "outputs": []
    },
    {
      "cell_type": "code",
      "source": [
        "start_time = time.time()\n",
        "accuracy = knn_classifier(X_train_pca, y_train['label_2'], X_val_pca, y_val['label_2'] )\n",
        "elapsed_time = time.time() - start_time\n",
        "print(f\"Accuracy: {accuracy * 100:.2f}% in {elapsed_time} secs\")"
      ],
      "metadata": {
        "id": "hwFx8lsv4qHd",
        "colab": {
          "base_uri": "https://localhost:8080/"
        },
        "outputId": "2a83f67c-50f5-459b-e09e-58aee5d32474"
      },
      "execution_count": 40,
      "outputs": [
        {
          "output_type": "stream",
          "name": "stdout",
          "text": [
            "Accuracy: 97.28% in 0.2245943546295166 secs\n"
          ]
        }
      ]
    },
    {
      "cell_type": "code",
      "source": [
        "X_train_pca.shape"
      ],
      "metadata": {
        "id": "pHVjW7dQ45j7",
        "colab": {
          "base_uri": "https://localhost:8080/"
        },
        "outputId": "762631cf-834e-47f3-fc29-58fd4551bf89"
      },
      "execution_count": 41,
      "outputs": [
        {
          "output_type": "execute_result",
          "data": {
            "text/plain": [
              "(28040, 38)"
            ]
          },
          "metadata": {},
          "execution_count": 41
        }
      ]
    },
    {
      "cell_type": "code",
      "source": [
        "label_2_pred_after = knn.predict(np.array(X_test_pca))"
      ],
      "metadata": {
        "id": "xkphPt_NNVhE"
      },
      "execution_count": 42,
      "outputs": []
    },
    {
      "cell_type": "code",
      "source": [
        "label2_features = pd.DataFrame(data=X_test_pca, columns=[f'new_feature_{i+1}' for i in range(X_test_pca.shape[1])])\n",
        "label2_features.insert(0,'Predicted labels before feature engineering',label_2_pred_before)\n",
        "label2_features.insert(1,'Predicted labels after feature engineering', label_2_pred_after)\n",
        "label2_features.insert(2,'No of new features', X_test_pca.shape[1])"
      ],
      "metadata": {
        "id": "D5xhUXgCPsEt"
      },
      "execution_count": 43,
      "outputs": []
    },
    {
      "cell_type": "markdown",
      "source": [
        "Label 3"
      ],
      "metadata": {
        "id": "TydTj0m46IhP"
      }
    },
    {
      "cell_type": "code",
      "source": [
        "label3_train = train.copy()\n",
        "label3_valid = valid.copy()\n",
        "label3_test = test.copy()"
      ],
      "metadata": {
        "id": "wG3uMumaE2yX"
      },
      "execution_count": 44,
      "outputs": []
    },
    {
      "cell_type": "code",
      "source": [
        "X_train = label3_train.iloc[:, :-4]\n",
        "y_train = label3_train.iloc[:, -2:]\n",
        "X_val = label3_valid.iloc[:, :-4]\n",
        "y_val = label3_valid.iloc[:, -2:]\n",
        "X_test = label3_test.iloc[:, :-4]\n",
        "y_test = label3_test.iloc[:, -2:]"
      ],
      "metadata": {
        "id": "F_3iT0AW6KIQ"
      },
      "execution_count": 45,
      "outputs": []
    },
    {
      "cell_type": "code",
      "source": [
        "ros = RandomOverSampler(random_state=0, sampling_strategy=0.75)\n",
        "X_train_resampled, y_train_resampled = ros.fit_resample(X_train, y_train['label_3'])"
      ],
      "metadata": {
        "id": "ghG5Y5zC8ayf"
      },
      "execution_count": 46,
      "outputs": []
    },
    {
      "cell_type": "code",
      "source": [
        "y_train_resampled"
      ],
      "metadata": {
        "id": "CQHKH9HS9EqV",
        "colab": {
          "base_uri": "https://localhost:8080/"
        },
        "outputId": "ce349f86-0f12-4539-fe0f-926f539527c8"
      },
      "execution_count": 47,
      "outputs": [
        {
          "output_type": "execute_result",
          "data": {
            "text/plain": [
              "0        1\n",
              "1        1\n",
              "2        1\n",
              "3        1\n",
              "4        1\n",
              "        ..\n",
              "39888    0\n",
              "39889    0\n",
              "39890    0\n",
              "39891    0\n",
              "39892    0\n",
              "Name: label_3, Length: 39893, dtype: int64"
            ]
          },
          "metadata": {},
          "execution_count": 47
        }
      ]
    },
    {
      "cell_type": "code",
      "source": [
        "ax = sn.countplot(x=y_train['label_3'])\n",
        "\n",
        "for p in ax.patches:\n",
        "    ax.annotate(f'{p.get_height()}', (p.get_x() + p.get_width() / 2., p.get_height()),\n",
        "                ha='center', va='bottom', fontsize=9, color='black')"
      ],
      "metadata": {
        "id": "pF0BFRqG6qje",
        "colab": {
          "base_uri": "https://localhost:8080/",
          "height": 450
        },
        "outputId": "a2672550-e283-498b-835c-af21592e450e"
      },
      "execution_count": 48,
      "outputs": [
        {
          "output_type": "display_data",
          "data": {
            "text/plain": [
              "<Figure size 640x480 with 1 Axes>"
            ],
            "image/png": "[encoded data removed]"
          },
          "metadata": {}
        }
      ]
    },
    {
      "cell_type": "code",
      "source": [
        "# accuracy with all the features\n",
        "#svm\n",
        "start_time = time.time()\n",
        "accuracy = svm_classifier(X_train_resampled, y_train_resampled, X_val, y_val['label_3'] )\n",
        "elapsed_time = time.time() - start_time\n",
        "print(f\"Accuracy: {accuracy * 100:.2f}% in {elapsed_time} secs\")"
      ],
      "metadata": {
        "id": "Y1PVSyc86vlE",
        "colab": {
          "base_uri": "https://localhost:8080/"
        },
        "outputId": "d555a1d1-9a83-418c-f21a-a5448af59509"
      },
      "execution_count": 49,
      "outputs": [
        {
          "output_type": "stream",
          "name": "stdout",
          "text": [
            "Accuracy: 99.87% in 3.94707989692688 secs\n"
          ]
        }
      ]
    },
    {
      "cell_type": "code",
      "source": [
        "# accuracy with all the features\n",
        "#knn\n",
        "start_time = time.time()\n",
        "accuracy = knn_classifier(X_train_resampled, y_train_resampled, X_val, y_val['label_3'] )\n",
        "elapsed_time = time.time() - start_time\n",
        "print(f\"Accuracy: {accuracy * 100:.2f}% in {elapsed_time} secs\")"
      ],
      "metadata": {
        "id": "J7kg_NhO7AHg",
        "colab": {
          "base_uri": "https://localhost:8080/"
        },
        "outputId": "8a180bcf-1a56-4626-dba5-d9888fb26f1c"
      },
      "execution_count": 50,
      "outputs": [
        {
          "output_type": "stream",
          "name": "stdout",
          "text": [
            "Accuracy: 100.00% in 0.657118558883667 secs\n"
          ]
        }
      ]
    },
    {
      "cell_type": "code",
      "source": [
        "# accuracy with all the features\n",
        "#logistic_regression_classifier\n",
        "start_time = time.time()\n",
        "accuracy = logistic_regression_classifier(X_train_resampled, y_train_resampled, X_val, y_val['label_3'] )\n",
        "elapsed_time = time.time() - start_time\n",
        "print(f\"Accuracy: {accuracy * 100:.2f}% in {elapsed_time} secs\")"
      ],
      "metadata": {
        "id": "R3DzhmGK7JBp",
        "colab": {
          "base_uri": "https://localhost:8080/"
        },
        "outputId": "0f88c766-c205-403a-df9e-b0d1c60550a0"
      },
      "execution_count": 51,
      "outputs": [
        {
          "output_type": "stream",
          "name": "stdout",
          "text": [
            "Accuracy: 100.00% in 1.6674139499664307 secs\n"
          ]
        }
      ]
    },
    {
      "cell_type": "code",
      "source": [
        "label_3_pred_before = knn.predict(np.array(X_test))"
      ],
      "metadata": {
        "id": "wE5YmrCrP-fm"
      },
      "execution_count": 52,
      "outputs": []
    },
    {
      "cell_type": "code",
      "source": [
        "pca_features = pca_feature_selection(train, 'label_3', 0.99996)\n",
        "print(f\"dropping features count {len(set(pca_features))}\")\n",
        "X_train_filtered = X_train_resampled.drop(columns=list(pca_features))\n",
        "X_val_filtered = X_val.drop(columns=list(pca_features))\n",
        "X_test_filtered = X_test.drop(columns=list(pca_features))\n",
        "start_time = time.time()\n",
        "accuracy = logistic_regression_classifier(X_train_filtered, y_train_resampled, X_val_filtered, y_val['label_3'] )\n",
        "elapsed_time = time.time() - start_time\n",
        "print(f\"Accuracy: {accuracy * 100:.2f}% in {elapsed_time} secs\")"
      ],
      "metadata": {
        "id": "G9Bk29R57N8k",
        "colab": {
          "base_uri": "https://localhost:8080/"
        },
        "outputId": "e684c1a9-4c76-4393-eff5-8237af06e72f"
      },
      "execution_count": 53,
      "outputs": [
        {
          "output_type": "stream",
          "name": "stdout",
          "text": [
            "dropping features count 231\n",
            "Accuracy: 98.13% in 0.30768656730651855 secs\n"
          ]
        }
      ]
    },
    {
      "cell_type": "code",
      "source": [
        "scaler = StandardScaler()\n",
        "X_train_scaled = scaler.fit_transform(X_train_filtered)\n",
        "X_val_scaled = scaler.transform(X_val_filtered)\n",
        "X_test_scaled = scaler.transform(X_test_filtered)"
      ],
      "metadata": {
        "id": "pW3LeEPs7XoQ"
      },
      "execution_count": 54,
      "outputs": []
    },
    {
      "cell_type": "code",
      "source": [
        "X_train_scaled.shape"
      ],
      "metadata": {
        "id": "oUIiyBMr-ZuZ",
        "colab": {
          "base_uri": "https://localhost:8080/"
        },
        "outputId": "04e87c7f-8eb0-4899-db60-f1ac354b7ce7"
      },
      "execution_count": 55,
      "outputs": [
        {
          "output_type": "execute_result",
          "data": {
            "text/plain": [
              "(39893, 25)"
            ]
          },
          "metadata": {},
          "execution_count": 55
        }
      ]
    },
    {
      "cell_type": "code",
      "source": [
        "label_3_pred_after = logreg.predict(np.array(X_test_scaled))"
      ],
      "metadata": {
        "id": "GHOnq9B4QHvN"
      },
      "execution_count": 56,
      "outputs": []
    },
    {
      "cell_type": "code",
      "source": [
        "label3_features = pd.DataFrame(data=X_test_pca, columns=[f'new_feature_{i+1}' for i in range(X_test_pca.shape[1])])\n",
        "label3_features.insert(0,'Predicted labels before feature engineering',label_3_pred_before)\n",
        "label3_features.insert(1,'Predicted labels after feature engineering', label_3_pred_after)\n",
        "label3_features.insert(2,'No of new features', X_test_pca.shape[1])"
      ],
      "metadata": {
        "id": "0y-_0PNdQbpi"
      },
      "execution_count": 57,
      "outputs": []
    },
    {
      "cell_type": "markdown",
      "source": [
        "Label 4"
      ],
      "metadata": {
        "id": "AU2JK0lf-fwO"
      }
    },
    {
      "cell_type": "code",
      "source": [
        "label4_train = train.copy()\n",
        "label4_valid = valid.copy()\n",
        "label4_test = test.copy()"
      ],
      "metadata": {
        "id": "-8xrCT6xFEaw"
      },
      "execution_count": 58,
      "outputs": []
    },
    {
      "cell_type": "code",
      "source": [
        "X_train = label4_train.iloc[:, :-4]\n",
        "y_train = label4_train.iloc[:, -1:]\n",
        "X_val = label4_valid.iloc[:, :-4]\n",
        "y_val = label4_valid.iloc[:, -1:]\n",
        "X_test = label4_test.iloc[:, :-4]\n",
        "y_test = label4_test.iloc[:, -1:]"
      ],
      "metadata": {
        "id": "xp0L9mysEqYd"
      },
      "execution_count": 59,
      "outputs": []
    },
    {
      "cell_type": "code",
      "source": [
        "plt.figure(figsize=(18, 6))\n",
        "ax = sn.countplot(x=y_train['label_4'], color='teal')\n",
        "\n",
        "for p in ax.patches:\n",
        "    ax.annotate(f'{p.get_height()}', (p.get_x() + p.get_width() / 2., p.get_height()),\n",
        "                ha='center', va='bottom', fontsize=9, color='black')"
      ],
      "metadata": {
        "id": "Y6rfOPwG-gvs",
        "colab": {
          "base_uri": "https://localhost:8080/",
          "height": 464
        },
        "outputId": "0eca3996-77c8-4870-e089-0456fb5efef5"
      },
      "execution_count": 60,
      "outputs": [
        {
          "output_type": "display_data",
          "data": {
            "text/plain": [
              "<Figure size 1800x600 with 1 Axes>"
            ],
            "image/png": "[encoded data removed]"
          },
          "metadata": {}
        }
      ]
    },
    {
      "cell_type": "code",
      "source": [
        "# accuracy with all the features\n",
        "#knn\n",
        "start_time = time.time()\n",
        "accuracy = knn_classifier(X_train_resampled, y_train_resampled, X_val, y_val['label_4'] )\n",
        "elapsed_time = time.time() - start_time\n",
        "print(f\"Accuracy: {accuracy * 100:.2f}% in {elapsed_time} secs\")"
      ],
      "metadata": {
        "colab": {
          "base_uri": "https://localhost:8080/"
        },
        "id": "64AOS5M3K5hy",
        "outputId": "a4d27c37-914b-4b1a-ce93-845a988069d8"
      },
      "execution_count": 61,
      "outputs": [
        {
          "output_type": "stream",
          "name": "stdout",
          "text": [
            "Accuracy: 1.47% in 1.2389225959777832 secs\n"
          ]
        }
      ]
    },
    {
      "cell_type": "code",
      "source": [
        "label_4_pred_before = knn.predict(np.array(X_test))"
      ],
      "metadata": {
        "id": "Rr3klYleK6Ky"
      },
      "execution_count": 62,
      "outputs": []
    },
    {
      "cell_type": "code",
      "source": [
        "ros = RandomOverSampler(random_state=0)\n",
        "X_train_resampled, y_train_resampled = ros.fit_resample(X_train, y_train['label_4'])"
      ],
      "metadata": {
        "id": "7dYz2RLdAFu4"
      },
      "execution_count": 63,
      "outputs": []
    },
    {
      "cell_type": "code",
      "source": [
        "plt.figure(figsize=(18, 6))\n",
        "ax = sn.countplot(x=y_train_resampled, color='teal')\n",
        "\n",
        "for p in ax.patches:\n",
        "    ax.annotate(f'{p.get_height()}', (p.get_x() + p.get_width() / 2., p.get_height()),\n",
        "                ha='center', va='bottom', fontsize=9, color='black')"
      ],
      "metadata": {
        "id": "B73zGXtvAY90",
        "colab": {
          "base_uri": "https://localhost:8080/",
          "height": 464
        },
        "outputId": "83da306d-2a16-43dd-b8b0-e3fb03bcc3db"
      },
      "execution_count": 64,
      "outputs": [
        {
          "output_type": "display_data",
          "data": {
            "text/plain": [
              "<Figure size 1800x600 with 1 Axes>"
            ],
            "image/png": "[encoded data removed]"
          },
          "metadata": {}
        }
      ]
    },
    {
      "cell_type": "code",
      "source": [
        "# accuracy with all the features\n",
        "#svm\n",
        "start_time = time.time()\n",
        "accuracy = svm_classifier(X_train_resampled, y_train_resampled, X_val, y_val['label_4'] )\n",
        "elapsed_time = time.time() - start_time\n",
        "print(f\"Accuracy: {accuracy * 100:.2f}% in {elapsed_time} secs\")"
      ],
      "metadata": {
        "id": "lzWRDpBUAaT9",
        "colab": {
          "base_uri": "https://localhost:8080/"
        },
        "outputId": "3547ed86-542f-4666-ebd8-5010c0e8732f"
      },
      "execution_count": 65,
      "outputs": [
        {
          "output_type": "stream",
          "name": "stdout",
          "text": [
            "Accuracy: 94.53% in 746.5137078762054 secs\n"
          ]
        }
      ]
    },
    {
      "cell_type": "code",
      "source": [
        "# accuracy with all the features\n",
        "#knn\n",
        "start_time = time.time()\n",
        "accuracy = knn_classifier(X_train_resampled, y_train_resampled, X_val, y_val['label_4'] )\n",
        "elapsed_time = time.time() - start_time\n",
        "print(f\"Accuracy: {accuracy * 100:.2f}% in {elapsed_time} secs\")"
      ],
      "metadata": {
        "id": "IhXrcfyDAncr",
        "colab": {
          "base_uri": "https://localhost:8080/"
        },
        "outputId": "2e8b203a-6d04-4106-a2d8-902e64f22a42"
      },
      "execution_count": 66,
      "outputs": [
        {
          "output_type": "stream",
          "name": "stdout",
          "text": [
            "Accuracy: 99.60% in 5.753143310546875 secs\n"
          ]
        }
      ]
    },
    {
      "cell_type": "code",
      "source": [
        "# accuracy with all the features\n",
        "#logistic_regression_classifier\n",
        "start_time = time.time()\n",
        "accuracy = logistic_regression_classifier(X_train_resampled, y_train_resampled, X_val, y_val['label_4'] )\n",
        "elapsed_time = time.time() - start_time\n",
        "print(f\"Accuracy: {accuracy * 100:.2f}% in {elapsed_time} secs\")"
      ],
      "metadata": {
        "id": "AXIxA_DVAqBd",
        "colab": {
          "base_uri": "https://localhost:8080/"
        },
        "outputId": "c962608d-721d-4bda-d26a-d67711e1fea8"
      },
      "execution_count": 67,
      "outputs": [
        {
          "output_type": "stream",
          "name": "stdout",
          "text": [
            "Accuracy: 89.20% in 64.21622657775879 secs\n"
          ]
        }
      ]
    },
    {
      "cell_type": "code",
      "source": [
        "pca_features = pca_feature_selection(train, 'label_4', 0.9999)\n",
        "print(f\"dropping features count {len(set(pca_features))}\")\n",
        "X_train_filtered = X_train_resampled.drop(columns=list(pca_features))\n",
        "X_val_filtered = X_val.drop(columns=list(pca_features))\n",
        "X_test_filtered = X_test.drop(columns=list(pca_features))\n",
        "start_time = time.time()\n",
        "accuracy = knn_classifier(X_train_filtered, y_train_resampled, X_val_filtered, y_val['label_4'] )\n",
        "elapsed_time = time.time() - start_time\n",
        "print(f\"Accuracy: {accuracy * 100:.2f}% in {elapsed_time} secs\")"
      ],
      "metadata": {
        "id": "08dwkFcGAsUx",
        "colab": {
          "base_uri": "https://localhost:8080/"
        },
        "outputId": "7ca61650-e378-4cf9-c9e2-de1564ac81a5"
      },
      "execution_count": 68,
      "outputs": [
        {
          "output_type": "stream",
          "name": "stdout",
          "text": [
            "dropping features count 212\n",
            "Accuracy: 97.07% in 2.610830068588257 secs\n"
          ]
        }
      ]
    },
    {
      "cell_type": "code",
      "source": [
        "scaler = StandardScaler()\n",
        "X_train_scaled = scaler.fit_transform(X_train_filtered)\n",
        "X_val_scaled = scaler.transform(X_val_filtered)\n",
        "X_test_scaled = scaler.transform(X_test_filtered)"
      ],
      "metadata": {
        "id": "vw6whcTtA-7q"
      },
      "execution_count": 69,
      "outputs": []
    },
    {
      "cell_type": "code",
      "source": [
        "X_train_scaled.shape"
      ],
      "metadata": {
        "id": "iapkHmlyA_Wz",
        "colab": {
          "base_uri": "https://localhost:8080/"
        },
        "outputId": "5097f389-7c66-4c5c-99ee-1955036fc528"
      },
      "execution_count": 70,
      "outputs": [
        {
          "output_type": "execute_result",
          "data": {
            "text/plain": [
              "(279132, 44)"
            ]
          },
          "metadata": {},
          "execution_count": 70
        }
      ]
    },
    {
      "cell_type": "code",
      "source": [
        "pca = PCA(n_components=36, svd_solver = 'full')\n",
        "X_train_pca = pca.fit_transform(X_train_scaled)\n",
        "X_val_pca = pca.transform(X_val_scaled)\n",
        "X_test_pca = pca.transform(X_test_scaled)"
      ],
      "metadata": {
        "id": "G7zj0IHBBC5B"
      },
      "execution_count": 71,
      "outputs": []
    },
    {
      "cell_type": "code",
      "source": [
        "X_train_pca.shape"
      ],
      "metadata": {
        "colab": {
          "base_uri": "https://localhost:8080/"
        },
        "id": "up4sEETQHPYq",
        "outputId": "749bfbf3-5307-40f9-a1e9-eb40b10a8af1"
      },
      "execution_count": 72,
      "outputs": [
        {
          "output_type": "execute_result",
          "data": {
            "text/plain": [
              "(279132, 36)"
            ]
          },
          "metadata": {},
          "execution_count": 72
        }
      ]
    },
    {
      "cell_type": "code",
      "source": [
        "start_time = time.time()\n",
        "accuracy = knn_classifier(X_train_pca, y_train_resampled, X_val_pca, y_val['label_4'] )\n",
        "elapsed_time = time.time() - start_time\n",
        "print(f\"Accuracy: {accuracy * 100:.2f}% in {elapsed_time} secs\")"
      ],
      "metadata": {
        "colab": {
          "base_uri": "https://localhost:8080/"
        },
        "id": "YHNGyc4dHRI8",
        "outputId": "43a62e0a-0587-42f0-abaf-03f5714b9110"
      },
      "execution_count": 73,
      "outputs": [
        {
          "output_type": "stream",
          "name": "stdout",
          "text": [
            "Accuracy: 97.07% in 1.2754392623901367 secs\n"
          ]
        }
      ]
    },
    {
      "cell_type": "markdown",
      "source": [
        "Save Output to CSV"
      ],
      "metadata": {
        "id": "XnKncK9eJ_Ek"
      }
    },
    {
      "cell_type": "markdown",
      "source": [],
      "metadata": {
        "id": "9xW1eOCUpkPm"
      }
    },
    {
      "cell_type": "code",
      "source": [
        "label_4_pred_after = knn.predict(np.array(X_test_pca))"
      ],
      "metadata": {
        "id": "WO3BpFz2HZQA"
      },
      "execution_count": 74,
      "outputs": []
    },
    {
      "cell_type": "code",
      "source": [
        "label4_features = pd.DataFrame(data=X_test_pca, columns=[f'new_feature_{i+1}' for i in range(X_test_pca.shape[1])])\n",
        "label4_features.insert(0,'Predicted labels before feature engineering',label_4_pred_before)\n",
        "label4_features.insert(1,'Predicted labels after feature engineering', label_4_pred_after)\n",
        "label4_features.insert(2,'No of new features', X_test_pca.shape[1])"
      ],
      "metadata": {
        "id": "Mfh_AjSpJbhR"
      },
      "execution_count": 75,
      "outputs": []
    },
    {
      "cell_type": "code",
      "source": [
        "def write_csv(feature_df, label):\n",
        "  dir_name = 'output'\n",
        "  if not os.path.exists(dir_name):\n",
        "    os.makedirs(dir_name)\n",
        "  for i in range(feature_df['No of new features'][0], 256):\n",
        "        feature_df[f'new_feature_{i+1}'] = [''] * (feature_df.shape[0])\n",
        "  filename = f'output/190544E_label_{label}.csv'\n",
        "  feature_df.to_csv(filename, index=False)"
      ],
      "metadata": {
        "id": "krxUxChSJve6"
      },
      "execution_count": 79,
      "outputs": []
    },
    {
      "cell_type": "code",
      "source": [
        "write_csv(label1_features.copy(), 1)\n",
        "write_csv(label2_features.copy(), 2)\n",
        "write_csv(label3_features.copy(), 3)\n",
        "write_csv(label4_features.copy(), 4)"
      ],
      "metadata": {
        "id": "9xBfJnKxJ0mX"
      },
      "execution_count": 80,
      "outputs": []
    }
  ]
}